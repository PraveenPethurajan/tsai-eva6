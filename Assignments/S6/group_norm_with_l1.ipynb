{
  "nbformat": 4,
  "nbformat_minor": 0,
  "metadata": {
    "accelerator": "GPU",
    "colab": {
      "name": "group_norm_with_l1.ipynb",
      "provenance": [],
      "collapsed_sections": [],
      "include_colab_link": true
    },
    "kernelspec": {
      "display_name": "Python 3",
      "name": "python3"
    },
    "widgets": {
      "application/vnd.jupyter.widget-state+json": {
        "389528874cfe496983b387f3f69c61ea": {
          "model_module": "@jupyter-widgets/controls",
          "model_name": "HBoxModel",
          "state": {
            "_view_name": "HBoxView",
            "_dom_classes": [],
            "_model_name": "HBoxModel",
            "_view_module": "@jupyter-widgets/controls",
            "_model_module_version": "1.5.0",
            "_view_count": null,
            "_view_module_version": "1.5.0",
            "box_style": "",
            "layout": "IPY_MODEL_ec9be13f583840d78366328ecc3c1f4b",
            "_model_module": "@jupyter-widgets/controls",
            "children": [
              "IPY_MODEL_837e3aa26d6942fbbbe64b0b17dfd891",
              "IPY_MODEL_670d8ea853f0406ba9b2cc82ff11e96f"
            ]
          }
        },
        "ec9be13f583840d78366328ecc3c1f4b": {
          "model_module": "@jupyter-widgets/base",
          "model_name": "LayoutModel",
          "state": {
            "_view_name": "LayoutView",
            "grid_template_rows": null,
            "right": null,
            "justify_content": null,
            "_view_module": "@jupyter-widgets/base",
            "overflow": null,
            "_model_module_version": "1.2.0",
            "_view_count": null,
            "flex_flow": null,
            "width": null,
            "min_width": null,
            "border": null,
            "align_items": null,
            "bottom": null,
            "_model_module": "@jupyter-widgets/base",
            "top": null,
            "grid_column": null,
            "overflow_y": null,
            "overflow_x": null,
            "grid_auto_flow": null,
            "grid_area": null,
            "grid_template_columns": null,
            "flex": null,
            "_model_name": "LayoutModel",
            "justify_items": null,
            "grid_row": null,
            "max_height": null,
            "align_content": null,
            "visibility": null,
            "align_self": null,
            "height": null,
            "min_height": null,
            "padding": null,
            "grid_auto_rows": null,
            "grid_gap": null,
            "max_width": null,
            "order": null,
            "_view_module_version": "1.2.0",
            "grid_template_areas": null,
            "object_position": null,
            "object_fit": null,
            "grid_auto_columns": null,
            "margin": null,
            "display": null,
            "left": null
          }
        },
        "837e3aa26d6942fbbbe64b0b17dfd891": {
          "model_module": "@jupyter-widgets/controls",
          "model_name": "FloatProgressModel",
          "state": {
            "_view_name": "ProgressView",
            "style": "IPY_MODEL_7fe034745ba34a90a5e0996e0bde6fb4",
            "_dom_classes": [],
            "description": "",
            "_model_name": "FloatProgressModel",
            "bar_style": "success",
            "max": 9912422,
            "_view_module": "@jupyter-widgets/controls",
            "_model_module_version": "1.5.0",
            "value": 9912422,
            "_view_count": null,
            "_view_module_version": "1.5.0",
            "orientation": "horizontal",
            "min": 0,
            "description_tooltip": null,
            "_model_module": "@jupyter-widgets/controls",
            "layout": "IPY_MODEL_9b12bc94fdb04d5ab95de76046dfb8cf"
          }
        },
        "670d8ea853f0406ba9b2cc82ff11e96f": {
          "model_module": "@jupyter-widgets/controls",
          "model_name": "HTMLModel",
          "state": {
            "_view_name": "HTMLView",
            "style": "IPY_MODEL_d5c65c74da39430cb1ca1d623b029d43",
            "_dom_classes": [],
            "description": "",
            "_model_name": "HTMLModel",
            "placeholder": "​",
            "_view_module": "@jupyter-widgets/controls",
            "_model_module_version": "1.5.0",
            "value": " 9913344/? [08:25&lt;00:00, 19611.60it/s]",
            "_view_count": null,
            "_view_module_version": "1.5.0",
            "description_tooltip": null,
            "_model_module": "@jupyter-widgets/controls",
            "layout": "IPY_MODEL_b0b7196eccc545d696e835310c43cd84"
          }
        },
        "7fe034745ba34a90a5e0996e0bde6fb4": {
          "model_module": "@jupyter-widgets/controls",
          "model_name": "ProgressStyleModel",
          "state": {
            "_view_name": "StyleView",
            "_model_name": "ProgressStyleModel",
            "description_width": "initial",
            "_view_module": "@jupyter-widgets/base",
            "_model_module_version": "1.5.0",
            "_view_count": null,
            "_view_module_version": "1.2.0",
            "bar_color": null,
            "_model_module": "@jupyter-widgets/controls"
          }
        },
        "9b12bc94fdb04d5ab95de76046dfb8cf": {
          "model_module": "@jupyter-widgets/base",
          "model_name": "LayoutModel",
          "state": {
            "_view_name": "LayoutView",
            "grid_template_rows": null,
            "right": null,
            "justify_content": null,
            "_view_module": "@jupyter-widgets/base",
            "overflow": null,
            "_model_module_version": "1.2.0",
            "_view_count": null,
            "flex_flow": null,
            "width": null,
            "min_width": null,
            "border": null,
            "align_items": null,
            "bottom": null,
            "_model_module": "@jupyter-widgets/base",
            "top": null,
            "grid_column": null,
            "overflow_y": null,
            "overflow_x": null,
            "grid_auto_flow": null,
            "grid_area": null,
            "grid_template_columns": null,
            "flex": null,
            "_model_name": "LayoutModel",
            "justify_items": null,
            "grid_row": null,
            "max_height": null,
            "align_content": null,
            "visibility": null,
            "align_self": null,
            "height": null,
            "min_height": null,
            "padding": null,
            "grid_auto_rows": null,
            "grid_gap": null,
            "max_width": null,
            "order": null,
            "_view_module_version": "1.2.0",
            "grid_template_areas": null,
            "object_position": null,
            "object_fit": null,
            "grid_auto_columns": null,
            "margin": null,
            "display": null,
            "left": null
          }
        },
        "d5c65c74da39430cb1ca1d623b029d43": {
          "model_module": "@jupyter-widgets/controls",
          "model_name": "DescriptionStyleModel",
          "state": {
            "_view_name": "StyleView",
            "_model_name": "DescriptionStyleModel",
            "description_width": "",
            "_view_module": "@jupyter-widgets/base",
            "_model_module_version": "1.5.0",
            "_view_count": null,
            "_view_module_version": "1.2.0",
            "_model_module": "@jupyter-widgets/controls"
          }
        },
        "b0b7196eccc545d696e835310c43cd84": {
          "model_module": "@jupyter-widgets/base",
          "model_name": "LayoutModel",
          "state": {
            "_view_name": "LayoutView",
            "grid_template_rows": null,
            "right": null,
            "justify_content": null,
            "_view_module": "@jupyter-widgets/base",
            "overflow": null,
            "_model_module_version": "1.2.0",
            "_view_count": null,
            "flex_flow": null,
            "width": null,
            "min_width": null,
            "border": null,
            "align_items": null,
            "bottom": null,
            "_model_module": "@jupyter-widgets/base",
            "top": null,
            "grid_column": null,
            "overflow_y": null,
            "overflow_x": null,
            "grid_auto_flow": null,
            "grid_area": null,
            "grid_template_columns": null,
            "flex": null,
            "_model_name": "LayoutModel",
            "justify_items": null,
            "grid_row": null,
            "max_height": null,
            "align_content": null,
            "visibility": null,
            "align_self": null,
            "height": null,
            "min_height": null,
            "padding": null,
            "grid_auto_rows": null,
            "grid_gap": null,
            "max_width": null,
            "order": null,
            "_view_module_version": "1.2.0",
            "grid_template_areas": null,
            "object_position": null,
            "object_fit": null,
            "grid_auto_columns": null,
            "margin": null,
            "display": null,
            "left": null
          }
        },
        "4d3be368c16c45bb927e5f7c0da5c375": {
          "model_module": "@jupyter-widgets/controls",
          "model_name": "HBoxModel",
          "state": {
            "_view_name": "HBoxView",
            "_dom_classes": [],
            "_model_name": "HBoxModel",
            "_view_module": "@jupyter-widgets/controls",
            "_model_module_version": "1.5.0",
            "_view_count": null,
            "_view_module_version": "1.5.0",
            "box_style": "",
            "layout": "IPY_MODEL_f5441e0618db4bf2a874bfdaeaa2f026",
            "_model_module": "@jupyter-widgets/controls",
            "children": [
              "IPY_MODEL_a9e864dd3ff74c23bbc89cf0df1ec410",
              "IPY_MODEL_51142483970d475c875c16b4ae80d684"
            ]
          }
        },
        "f5441e0618db4bf2a874bfdaeaa2f026": {
          "model_module": "@jupyter-widgets/base",
          "model_name": "LayoutModel",
          "state": {
            "_view_name": "LayoutView",
            "grid_template_rows": null,
            "right": null,
            "justify_content": null,
            "_view_module": "@jupyter-widgets/base",
            "overflow": null,
            "_model_module_version": "1.2.0",
            "_view_count": null,
            "flex_flow": null,
            "width": null,
            "min_width": null,
            "border": null,
            "align_items": null,
            "bottom": null,
            "_model_module": "@jupyter-widgets/base",
            "top": null,
            "grid_column": null,
            "overflow_y": null,
            "overflow_x": null,
            "grid_auto_flow": null,
            "grid_area": null,
            "grid_template_columns": null,
            "flex": null,
            "_model_name": "LayoutModel",
            "justify_items": null,
            "grid_row": null,
            "max_height": null,
            "align_content": null,
            "visibility": null,
            "align_self": null,
            "height": null,
            "min_height": null,
            "padding": null,
            "grid_auto_rows": null,
            "grid_gap": null,
            "max_width": null,
            "order": null,
            "_view_module_version": "1.2.0",
            "grid_template_areas": null,
            "object_position": null,
            "object_fit": null,
            "grid_auto_columns": null,
            "margin": null,
            "display": null,
            "left": null
          }
        },
        "a9e864dd3ff74c23bbc89cf0df1ec410": {
          "model_module": "@jupyter-widgets/controls",
          "model_name": "FloatProgressModel",
          "state": {
            "_view_name": "ProgressView",
            "style": "IPY_MODEL_f54fa43845cd48af8469925599ca7673",
            "_dom_classes": [],
            "description": "",
            "_model_name": "FloatProgressModel",
            "bar_style": "success",
            "max": 28881,
            "_view_module": "@jupyter-widgets/controls",
            "_model_module_version": "1.5.0",
            "value": 28881,
            "_view_count": null,
            "_view_module_version": "1.5.0",
            "orientation": "horizontal",
            "min": 0,
            "description_tooltip": null,
            "_model_module": "@jupyter-widgets/controls",
            "layout": "IPY_MODEL_37a8265b7c7a459b9d9e64d00b61a566"
          }
        },
        "51142483970d475c875c16b4ae80d684": {
          "model_module": "@jupyter-widgets/controls",
          "model_name": "HTMLModel",
          "state": {
            "_view_name": "HTMLView",
            "style": "IPY_MODEL_c7910a128e4d42828f44b4951f94cb73",
            "_dom_classes": [],
            "description": "",
            "_model_name": "HTMLModel",
            "placeholder": "​",
            "_view_module": "@jupyter-widgets/controls",
            "_model_module_version": "1.5.0",
            "value": " 29696/? [03:26&lt;00:00, 144.06it/s]",
            "_view_count": null,
            "_view_module_version": "1.5.0",
            "description_tooltip": null,
            "_model_module": "@jupyter-widgets/controls",
            "layout": "IPY_MODEL_4ce532a45a10420988e5b9622ea864d2"
          }
        },
        "f54fa43845cd48af8469925599ca7673": {
          "model_module": "@jupyter-widgets/controls",
          "model_name": "ProgressStyleModel",
          "state": {
            "_view_name": "StyleView",
            "_model_name": "ProgressStyleModel",
            "description_width": "initial",
            "_view_module": "@jupyter-widgets/base",
            "_model_module_version": "1.5.0",
            "_view_count": null,
            "_view_module_version": "1.2.0",
            "bar_color": null,
            "_model_module": "@jupyter-widgets/controls"
          }
        },
        "37a8265b7c7a459b9d9e64d00b61a566": {
          "model_module": "@jupyter-widgets/base",
          "model_name": "LayoutModel",
          "state": {
            "_view_name": "LayoutView",
            "grid_template_rows": null,
            "right": null,
            "justify_content": null,
            "_view_module": "@jupyter-widgets/base",
            "overflow": null,
            "_model_module_version": "1.2.0",
            "_view_count": null,
            "flex_flow": null,
            "width": null,
            "min_width": null,
            "border": null,
            "align_items": null,
            "bottom": null,
            "_model_module": "@jupyter-widgets/base",
            "top": null,
            "grid_column": null,
            "overflow_y": null,
            "overflow_x": null,
            "grid_auto_flow": null,
            "grid_area": null,
            "grid_template_columns": null,
            "flex": null,
            "_model_name": "LayoutModel",
            "justify_items": null,
            "grid_row": null,
            "max_height": null,
            "align_content": null,
            "visibility": null,
            "align_self": null,
            "height": null,
            "min_height": null,
            "padding": null,
            "grid_auto_rows": null,
            "grid_gap": null,
            "max_width": null,
            "order": null,
            "_view_module_version": "1.2.0",
            "grid_template_areas": null,
            "object_position": null,
            "object_fit": null,
            "grid_auto_columns": null,
            "margin": null,
            "display": null,
            "left": null
          }
        },
        "c7910a128e4d42828f44b4951f94cb73": {
          "model_module": "@jupyter-widgets/controls",
          "model_name": "DescriptionStyleModel",
          "state": {
            "_view_name": "StyleView",
            "_model_name": "DescriptionStyleModel",
            "description_width": "",
            "_view_module": "@jupyter-widgets/base",
            "_model_module_version": "1.5.0",
            "_view_count": null,
            "_view_module_version": "1.2.0",
            "_model_module": "@jupyter-widgets/controls"
          }
        },
        "4ce532a45a10420988e5b9622ea864d2": {
          "model_module": "@jupyter-widgets/base",
          "model_name": "LayoutModel",
          "state": {
            "_view_name": "LayoutView",
            "grid_template_rows": null,
            "right": null,
            "justify_content": null,
            "_view_module": "@jupyter-widgets/base",
            "overflow": null,
            "_model_module_version": "1.2.0",
            "_view_count": null,
            "flex_flow": null,
            "width": null,
            "min_width": null,
            "border": null,
            "align_items": null,
            "bottom": null,
            "_model_module": "@jupyter-widgets/base",
            "top": null,
            "grid_column": null,
            "overflow_y": null,
            "overflow_x": null,
            "grid_auto_flow": null,
            "grid_area": null,
            "grid_template_columns": null,
            "flex": null,
            "_model_name": "LayoutModel",
            "justify_items": null,
            "grid_row": null,
            "max_height": null,
            "align_content": null,
            "visibility": null,
            "align_self": null,
            "height": null,
            "min_height": null,
            "padding": null,
            "grid_auto_rows": null,
            "grid_gap": null,
            "max_width": null,
            "order": null,
            "_view_module_version": "1.2.0",
            "grid_template_areas": null,
            "object_position": null,
            "object_fit": null,
            "grid_auto_columns": null,
            "margin": null,
            "display": null,
            "left": null
          }
        },
        "0653267df02c47e4a6af7b73cdea43ea": {
          "model_module": "@jupyter-widgets/controls",
          "model_name": "HBoxModel",
          "state": {
            "_view_name": "HBoxView",
            "_dom_classes": [],
            "_model_name": "HBoxModel",
            "_view_module": "@jupyter-widgets/controls",
            "_model_module_version": "1.5.0",
            "_view_count": null,
            "_view_module_version": "1.5.0",
            "box_style": "",
            "layout": "IPY_MODEL_12ebe4b0f94c4c07955f81e03aabaf48",
            "_model_module": "@jupyter-widgets/controls",
            "children": [
              "IPY_MODEL_d68b8d0cb0f64c7b9187c4488fd2bc27",
              "IPY_MODEL_5fcab5378b58472c9b8011c0ae18b9fd"
            ]
          }
        },
        "12ebe4b0f94c4c07955f81e03aabaf48": {
          "model_module": "@jupyter-widgets/base",
          "model_name": "LayoutModel",
          "state": {
            "_view_name": "LayoutView",
            "grid_template_rows": null,
            "right": null,
            "justify_content": null,
            "_view_module": "@jupyter-widgets/base",
            "overflow": null,
            "_model_module_version": "1.2.0",
            "_view_count": null,
            "flex_flow": null,
            "width": null,
            "min_width": null,
            "border": null,
            "align_items": null,
            "bottom": null,
            "_model_module": "@jupyter-widgets/base",
            "top": null,
            "grid_column": null,
            "overflow_y": null,
            "overflow_x": null,
            "grid_auto_flow": null,
            "grid_area": null,
            "grid_template_columns": null,
            "flex": null,
            "_model_name": "LayoutModel",
            "justify_items": null,
            "grid_row": null,
            "max_height": null,
            "align_content": null,
            "visibility": null,
            "align_self": null,
            "height": null,
            "min_height": null,
            "padding": null,
            "grid_auto_rows": null,
            "grid_gap": null,
            "max_width": null,
            "order": null,
            "_view_module_version": "1.2.0",
            "grid_template_areas": null,
            "object_position": null,
            "object_fit": null,
            "grid_auto_columns": null,
            "margin": null,
            "display": null,
            "left": null
          }
        },
        "d68b8d0cb0f64c7b9187c4488fd2bc27": {
          "model_module": "@jupyter-widgets/controls",
          "model_name": "FloatProgressModel",
          "state": {
            "_view_name": "ProgressView",
            "style": "IPY_MODEL_572983fffdf4448f9ef4f31c1d9e6b40",
            "_dom_classes": [],
            "description": "",
            "_model_name": "FloatProgressModel",
            "bar_style": "success",
            "max": 1648877,
            "_view_module": "@jupyter-widgets/controls",
            "_model_module_version": "1.5.0",
            "value": 1648877,
            "_view_count": null,
            "_view_module_version": "1.5.0",
            "orientation": "horizontal",
            "min": 0,
            "description_tooltip": null,
            "_model_module": "@jupyter-widgets/controls",
            "layout": "IPY_MODEL_8eb9cb632e704ee7a327b93993207087"
          }
        },
        "5fcab5378b58472c9b8011c0ae18b9fd": {
          "model_module": "@jupyter-widgets/controls",
          "model_name": "HTMLModel",
          "state": {
            "_view_name": "HTMLView",
            "style": "IPY_MODEL_7f1486bca1fc46b8a90375e86fd8eb8c",
            "_dom_classes": [],
            "description": "",
            "_model_name": "HTMLModel",
            "placeholder": "​",
            "_view_module": "@jupyter-widgets/controls",
            "_model_module_version": "1.5.0",
            "value": " 1649664/? [00:01&lt;00:00, 1336494.74it/s]",
            "_view_count": null,
            "_view_module_version": "1.5.0",
            "description_tooltip": null,
            "_model_module": "@jupyter-widgets/controls",
            "layout": "IPY_MODEL_23a78e31ab6347a3be7476464b0b33d8"
          }
        },
        "572983fffdf4448f9ef4f31c1d9e6b40": {
          "model_module": "@jupyter-widgets/controls",
          "model_name": "ProgressStyleModel",
          "state": {
            "_view_name": "StyleView",
            "_model_name": "ProgressStyleModel",
            "description_width": "initial",
            "_view_module": "@jupyter-widgets/base",
            "_model_module_version": "1.5.0",
            "_view_count": null,
            "_view_module_version": "1.2.0",
            "bar_color": null,
            "_model_module": "@jupyter-widgets/controls"
          }
        },
        "8eb9cb632e704ee7a327b93993207087": {
          "model_module": "@jupyter-widgets/base",
          "model_name": "LayoutModel",
          "state": {
            "_view_name": "LayoutView",
            "grid_template_rows": null,
            "right": null,
            "justify_content": null,
            "_view_module": "@jupyter-widgets/base",
            "overflow": null,
            "_model_module_version": "1.2.0",
            "_view_count": null,
            "flex_flow": null,
            "width": null,
            "min_width": null,
            "border": null,
            "align_items": null,
            "bottom": null,
            "_model_module": "@jupyter-widgets/base",
            "top": null,
            "grid_column": null,
            "overflow_y": null,
            "overflow_x": null,
            "grid_auto_flow": null,
            "grid_area": null,
            "grid_template_columns": null,
            "flex": null,
            "_model_name": "LayoutModel",
            "justify_items": null,
            "grid_row": null,
            "max_height": null,
            "align_content": null,
            "visibility": null,
            "align_self": null,
            "height": null,
            "min_height": null,
            "padding": null,
            "grid_auto_rows": null,
            "grid_gap": null,
            "max_width": null,
            "order": null,
            "_view_module_version": "1.2.0",
            "grid_template_areas": null,
            "object_position": null,
            "object_fit": null,
            "grid_auto_columns": null,
            "margin": null,
            "display": null,
            "left": null
          }
        },
        "7f1486bca1fc46b8a90375e86fd8eb8c": {
          "model_module": "@jupyter-widgets/controls",
          "model_name": "DescriptionStyleModel",
          "state": {
            "_view_name": "StyleView",
            "_model_name": "DescriptionStyleModel",
            "description_width": "",
            "_view_module": "@jupyter-widgets/base",
            "_model_module_version": "1.5.0",
            "_view_count": null,
            "_view_module_version": "1.2.0",
            "_model_module": "@jupyter-widgets/controls"
          }
        },
        "23a78e31ab6347a3be7476464b0b33d8": {
          "model_module": "@jupyter-widgets/base",
          "model_name": "LayoutModel",
          "state": {
            "_view_name": "LayoutView",
            "grid_template_rows": null,
            "right": null,
            "justify_content": null,
            "_view_module": "@jupyter-widgets/base",
            "overflow": null,
            "_model_module_version": "1.2.0",
            "_view_count": null,
            "flex_flow": null,
            "width": null,
            "min_width": null,
            "border": null,
            "align_items": null,
            "bottom": null,
            "_model_module": "@jupyter-widgets/base",
            "top": null,
            "grid_column": null,
            "overflow_y": null,
            "overflow_x": null,
            "grid_auto_flow": null,
            "grid_area": null,
            "grid_template_columns": null,
            "flex": null,
            "_model_name": "LayoutModel",
            "justify_items": null,
            "grid_row": null,
            "max_height": null,
            "align_content": null,
            "visibility": null,
            "align_self": null,
            "height": null,
            "min_height": null,
            "padding": null,
            "grid_auto_rows": null,
            "grid_gap": null,
            "max_width": null,
            "order": null,
            "_view_module_version": "1.2.0",
            "grid_template_areas": null,
            "object_position": null,
            "object_fit": null,
            "grid_auto_columns": null,
            "margin": null,
            "display": null,
            "left": null
          }
        },
        "f5d16b0046aa4c118c41b9b55ff695af": {
          "model_module": "@jupyter-widgets/controls",
          "model_name": "HBoxModel",
          "state": {
            "_view_name": "HBoxView",
            "_dom_classes": [],
            "_model_name": "HBoxModel",
            "_view_module": "@jupyter-widgets/controls",
            "_model_module_version": "1.5.0",
            "_view_count": null,
            "_view_module_version": "1.5.0",
            "box_style": "",
            "layout": "IPY_MODEL_fb3da6a82466447e9c9f2240bfdaf3e3",
            "_model_module": "@jupyter-widgets/controls",
            "children": [
              "IPY_MODEL_a29c3c0645054e8a907acf13ed4b865e",
              "IPY_MODEL_91c730b15d7b4309b930a8a789142b27"
            ]
          }
        },
        "fb3da6a82466447e9c9f2240bfdaf3e3": {
          "model_module": "@jupyter-widgets/base",
          "model_name": "LayoutModel",
          "state": {
            "_view_name": "LayoutView",
            "grid_template_rows": null,
            "right": null,
            "justify_content": null,
            "_view_module": "@jupyter-widgets/base",
            "overflow": null,
            "_model_module_version": "1.2.0",
            "_view_count": null,
            "flex_flow": null,
            "width": null,
            "min_width": null,
            "border": null,
            "align_items": null,
            "bottom": null,
            "_model_module": "@jupyter-widgets/base",
            "top": null,
            "grid_column": null,
            "overflow_y": null,
            "overflow_x": null,
            "grid_auto_flow": null,
            "grid_area": null,
            "grid_template_columns": null,
            "flex": null,
            "_model_name": "LayoutModel",
            "justify_items": null,
            "grid_row": null,
            "max_height": null,
            "align_content": null,
            "visibility": null,
            "align_self": null,
            "height": null,
            "min_height": null,
            "padding": null,
            "grid_auto_rows": null,
            "grid_gap": null,
            "max_width": null,
            "order": null,
            "_view_module_version": "1.2.0",
            "grid_template_areas": null,
            "object_position": null,
            "object_fit": null,
            "grid_auto_columns": null,
            "margin": null,
            "display": null,
            "left": null
          }
        },
        "a29c3c0645054e8a907acf13ed4b865e": {
          "model_module": "@jupyter-widgets/controls",
          "model_name": "FloatProgressModel",
          "state": {
            "_view_name": "ProgressView",
            "style": "IPY_MODEL_10e2c8053a7441e49552186cd490f025",
            "_dom_classes": [],
            "description": "",
            "_model_name": "FloatProgressModel",
            "bar_style": "success",
            "max": 4542,
            "_view_module": "@jupyter-widgets/controls",
            "_model_module_version": "1.5.0",
            "value": 4542,
            "_view_count": null,
            "_view_module_version": "1.5.0",
            "orientation": "horizontal",
            "min": 0,
            "description_tooltip": null,
            "_model_module": "@jupyter-widgets/controls",
            "layout": "IPY_MODEL_3f66e33ceb67418cb02c9fbe9629a53c"
          }
        },
        "91c730b15d7b4309b930a8a789142b27": {
          "model_module": "@jupyter-widgets/controls",
          "model_name": "HTMLModel",
          "state": {
            "_view_name": "HTMLView",
            "style": "IPY_MODEL_dfbd3cfbff0f47ca9c11caaa3e3aa527",
            "_dom_classes": [],
            "description": "",
            "_model_name": "HTMLModel",
            "placeholder": "​",
            "_view_module": "@jupyter-widgets/controls",
            "_model_module_version": "1.5.0",
            "value": " 5120/? [00:00&lt;00:00, 17056.50it/s]",
            "_view_count": null,
            "_view_module_version": "1.5.0",
            "description_tooltip": null,
            "_model_module": "@jupyter-widgets/controls",
            "layout": "IPY_MODEL_bfc32a53e58d435898aa2d7dc48df08e"
          }
        },
        "10e2c8053a7441e49552186cd490f025": {
          "model_module": "@jupyter-widgets/controls",
          "model_name": "ProgressStyleModel",
          "state": {
            "_view_name": "StyleView",
            "_model_name": "ProgressStyleModel",
            "description_width": "initial",
            "_view_module": "@jupyter-widgets/base",
            "_model_module_version": "1.5.0",
            "_view_count": null,
            "_view_module_version": "1.2.0",
            "bar_color": null,
            "_model_module": "@jupyter-widgets/controls"
          }
        },
        "3f66e33ceb67418cb02c9fbe9629a53c": {
          "model_module": "@jupyter-widgets/base",
          "model_name": "LayoutModel",
          "state": {
            "_view_name": "LayoutView",
            "grid_template_rows": null,
            "right": null,
            "justify_content": null,
            "_view_module": "@jupyter-widgets/base",
            "overflow": null,
            "_model_module_version": "1.2.0",
            "_view_count": null,
            "flex_flow": null,
            "width": null,
            "min_width": null,
            "border": null,
            "align_items": null,
            "bottom": null,
            "_model_module": "@jupyter-widgets/base",
            "top": null,
            "grid_column": null,
            "overflow_y": null,
            "overflow_x": null,
            "grid_auto_flow": null,
            "grid_area": null,
            "grid_template_columns": null,
            "flex": null,
            "_model_name": "LayoutModel",
            "justify_items": null,
            "grid_row": null,
            "max_height": null,
            "align_content": null,
            "visibility": null,
            "align_self": null,
            "height": null,
            "min_height": null,
            "padding": null,
            "grid_auto_rows": null,
            "grid_gap": null,
            "max_width": null,
            "order": null,
            "_view_module_version": "1.2.0",
            "grid_template_areas": null,
            "object_position": null,
            "object_fit": null,
            "grid_auto_columns": null,
            "margin": null,
            "display": null,
            "left": null
          }
        },
        "dfbd3cfbff0f47ca9c11caaa3e3aa527": {
          "model_module": "@jupyter-widgets/controls",
          "model_name": "DescriptionStyleModel",
          "state": {
            "_view_name": "StyleView",
            "_model_name": "DescriptionStyleModel",
            "description_width": "",
            "_view_module": "@jupyter-widgets/base",
            "_model_module_version": "1.5.0",
            "_view_count": null,
            "_view_module_version": "1.2.0",
            "_model_module": "@jupyter-widgets/controls"
          }
        },
        "bfc32a53e58d435898aa2d7dc48df08e": {
          "model_module": "@jupyter-widgets/base",
          "model_name": "LayoutModel",
          "state": {
            "_view_name": "LayoutView",
            "grid_template_rows": null,
            "right": null,
            "justify_content": null,
            "_view_module": "@jupyter-widgets/base",
            "overflow": null,
            "_model_module_version": "1.2.0",
            "_view_count": null,
            "flex_flow": null,
            "width": null,
            "min_width": null,
            "border": null,
            "align_items": null,
            "bottom": null,
            "_model_module": "@jupyter-widgets/base",
            "top": null,
            "grid_column": null,
            "overflow_y": null,
            "overflow_x": null,
            "grid_auto_flow": null,
            "grid_area": null,
            "grid_template_columns": null,
            "flex": null,
            "_model_name": "LayoutModel",
            "justify_items": null,
            "grid_row": null,
            "max_height": null,
            "align_content": null,
            "visibility": null,
            "align_self": null,
            "height": null,
            "min_height": null,
            "padding": null,
            "grid_auto_rows": null,
            "grid_gap": null,
            "max_width": null,
            "order": null,
            "_view_module_version": "1.2.0",
            "grid_template_areas": null,
            "object_position": null,
            "object_fit": null,
            "grid_auto_columns": null,
            "margin": null,
            "display": null,
            "left": null
          }
        }
      }
    }
  },
  "cells": [
    {
      "cell_type": "markdown",
      "metadata": {
        "id": "view-in-github",
        "colab_type": "text"
      },
      "source": [
        "<a href=\"https://colab.research.google.com/github/amanjain487/tsai-eva6/blob/main/Assignments/S6/group_norm_with_l1.ipynb\" target=\"_parent\"><img src=\"https://colab.research.google.com/assets/colab-badge.svg\" alt=\"Open In Colab\"/></a>"
      ]
    },
    {
      "cell_type": "markdown",
      "metadata": {
        "id": "8dcfzPkqqsbr"
      },
      "source": [
        "# Import Libraries"
      ]
    },
    {
      "cell_type": "code",
      "metadata": {
        "id": "0m2JWFliFfKT"
      },
      "source": [
        "from __future__ import print_function\n",
        "import torch\n",
        "import torch.nn as nn\n",
        "import torch.nn.functional as F\n",
        "import torch.optim as optim\n",
        "from torchvision import datasets, transforms\n",
        "\n",
        "from torchsummary import summary\n",
        "\n",
        "%matplotlib inline\n",
        "import matplotlib.pyplot as plt\n",
        "from model_norm import Net\n"
      ],
      "execution_count": 1,
      "outputs": []
    },
    {
      "cell_type": "markdown",
      "metadata": {
        "id": "WSYRwdRnuWEm"
      },
      "source": [
        "# Model Summary and Paramters\n",
        "Print the model parameters and output shape at each layer by giving dummy input to torchsummary"
      ]
    },
    {
      "cell_type": "code",
      "metadata": {
        "colab": {
          "base_uri": "https://localhost:8080/"
        },
        "id": "N93k-_eViKPI",
        "outputId": "77f74ae0-acca-4e7e-e5e7-c209642fefcf"
      },
      "source": [
        "!pip install torchsummary\n",
        "use_cuda = torch.cuda.is_available()\n",
        "device = torch.device(\"cuda\" if use_cuda else \"cpu\")\n",
        "print(device)\n",
        "model = Net(\"group\").to(device)\n",
        "summary(model, input_size=(1, 28, 28))"
      ],
      "execution_count": 3,
      "outputs": [
        {
          "output_type": "stream",
          "text": [
            "Requirement already satisfied: torchsummary in /usr/local/lib/python3.7/dist-packages (1.5.1)\n",
            "cuda\n",
            "----------------------------------------------------------------\n",
            "        Layer (type)               Output Shape         Param #\n",
            "================================================================\n",
            "            Conv2d-1           [-1, 32, 28, 28]             288\n",
            "         GroupNorm-2           [-1, 32, 28, 28]              64\n",
            "           Dropout-3           [-1, 32, 28, 28]               0\n",
            "              ReLU-4           [-1, 32, 28, 28]               0\n",
            "            Conv2d-5           [-1, 10, 28, 28]             320\n",
            "            Conv2d-6           [-1, 10, 28, 28]             900\n",
            "         GroupNorm-7           [-1, 10, 28, 28]              20\n",
            "           Dropout-8           [-1, 10, 28, 28]               0\n",
            "              ReLU-9           [-1, 10, 28, 28]               0\n",
            "        MaxPool2d-10           [-1, 10, 14, 14]               0\n",
            "           Conv2d-11           [-1, 10, 12, 12]             900\n",
            "        GroupNorm-12           [-1, 10, 12, 12]              20\n",
            "          Dropout-13           [-1, 10, 12, 12]               0\n",
            "             ReLU-14           [-1, 10, 12, 12]               0\n",
            "           Conv2d-15           [-1, 10, 10, 10]             900\n",
            "        GroupNorm-16           [-1, 10, 10, 10]              20\n",
            "             ReLU-17           [-1, 10, 10, 10]               0\n",
            "           Conv2d-18             [-1, 10, 8, 8]             900\n",
            "        GroupNorm-19             [-1, 10, 8, 8]              20\n",
            "          Dropout-20             [-1, 10, 8, 8]               0\n",
            "             ReLU-21             [-1, 10, 8, 8]               0\n",
            "           Conv2d-22             [-1, 16, 6, 6]           1,440\n",
            "        GroupNorm-23             [-1, 16, 6, 6]              32\n",
            "          Dropout-24             [-1, 16, 6, 6]               0\n",
            "             ReLU-25             [-1, 16, 6, 6]               0\n",
            "           Conv2d-26             [-1, 10, 4, 4]           1,440\n",
            "        GroupNorm-27             [-1, 10, 4, 4]              20\n",
            "          Dropout-28             [-1, 10, 4, 4]               0\n",
            "             ReLU-29             [-1, 10, 4, 4]               0\n",
            "        AvgPool2d-30             [-1, 10, 1, 1]               0\n",
            "           Linear-31                   [-1, 10]             100\n",
            "================================================================\n",
            "Total params: 7,384\n",
            "Trainable params: 7,384\n",
            "Non-trainable params: 0\n",
            "----------------------------------------------------------------\n",
            "Input size (MB): 0.00\n",
            "Forward/backward pass size (MB): 1.19\n",
            "Params size (MB): 0.03\n",
            "Estimated Total Size (MB): 1.22\n",
            "----------------------------------------------------------------\n"
          ],
          "name": "stdout"
        }
      ]
    },
    {
      "cell_type": "markdown",
      "metadata": {
        "id": "YCXWP0v83Jca"
      },
      "source": [
        "# Split Dataset into Train set and Test set"
      ]
    },
    {
      "cell_type": "code",
      "metadata": {
        "id": "gzVTKIkR2ikb",
        "colab": {
          "base_uri": "https://localhost:8080/",
          "height": 662,
          "referenced_widgets": [
            "389528874cfe496983b387f3f69c61ea",
            "ec9be13f583840d78366328ecc3c1f4b",
            "837e3aa26d6942fbbbe64b0b17dfd891",
            "670d8ea853f0406ba9b2cc82ff11e96f",
            "7fe034745ba34a90a5e0996e0bde6fb4",
            "9b12bc94fdb04d5ab95de76046dfb8cf",
            "d5c65c74da39430cb1ca1d623b029d43",
            "b0b7196eccc545d696e835310c43cd84",
            "4d3be368c16c45bb927e5f7c0da5c375",
            "f5441e0618db4bf2a874bfdaeaa2f026",
            "a9e864dd3ff74c23bbc89cf0df1ec410",
            "51142483970d475c875c16b4ae80d684",
            "f54fa43845cd48af8469925599ca7673",
            "37a8265b7c7a459b9d9e64d00b61a566",
            "c7910a128e4d42828f44b4951f94cb73",
            "4ce532a45a10420988e5b9622ea864d2",
            "0653267df02c47e4a6af7b73cdea43ea",
            "12ebe4b0f94c4c07955f81e03aabaf48",
            "d68b8d0cb0f64c7b9187c4488fd2bc27",
            "5fcab5378b58472c9b8011c0ae18b9fd",
            "572983fffdf4448f9ef4f31c1d9e6b40",
            "8eb9cb632e704ee7a327b93993207087",
            "7f1486bca1fc46b8a90375e86fd8eb8c",
            "23a78e31ab6347a3be7476464b0b33d8",
            "f5d16b0046aa4c118c41b9b55ff695af",
            "fb3da6a82466447e9c9f2240bfdaf3e3",
            "a29c3c0645054e8a907acf13ed4b865e",
            "91c730b15d7b4309b930a8a789142b27",
            "10e2c8053a7441e49552186cd490f025",
            "3f66e33ceb67418cb02c9fbe9629a53c",
            "dfbd3cfbff0f47ca9c11caaa3e3aa527",
            "bfc32a53e58d435898aa2d7dc48df08e"
          ]
        },
        "outputId": "0d8c3479-5e3c-4cb6-d96d-6e1ae7db58e8"
      },
      "source": [
        "train_set = datasets.MNIST('../data', \n",
        "                   train=True, \n",
        "                   download=True,\n",
        "                   transform=transforms.Compose([\n",
        "                                       transforms.RandomRotation((-7.5, 7.5), fill=(1,)),\n",
        "                                       transforms.ToTensor(),\n",
        "                                       transforms.Normalize((0.1307,), (0.3081,)) \n",
        "                                       # The mean and std have to be sequences (e.g., tuples), therefore you should add a comma after the values. \n",
        "                                       ]))\n",
        "\n",
        "\n",
        "test_set = datasets.MNIST('../data', \n",
        "                   train=False, \n",
        "                   download=True,\n",
        "                   transform=transforms.Compose([\n",
        "                                       transforms.ToTensor(),\n",
        "                                       transforms.Normalize((0.1307,), (0.3081,))\n",
        "                                       ]))"
      ],
      "execution_count": 4,
      "outputs": [
        {
          "output_type": "stream",
          "text": [
            "Downloading http://yann.lecun.com/exdb/mnist/train-images-idx3-ubyte.gz\n",
            "Downloading http://yann.lecun.com/exdb/mnist/train-images-idx3-ubyte.gz to ../data/MNIST/raw/train-images-idx3-ubyte.gz\n"
          ],
          "name": "stdout"
        },
        {
          "output_type": "display_data",
          "data": {
            "application/vnd.jupyter.widget-view+json": {
              "model_id": "389528874cfe496983b387f3f69c61ea",
              "version_minor": 0,
              "version_major": 2
            },
            "text/plain": [
              "HBox(children=(FloatProgress(value=0.0, max=9912422.0), HTML(value='')))"
            ]
          },
          "metadata": {
            "tags": []
          }
        },
        {
          "output_type": "stream",
          "text": [
            "\n",
            "Extracting ../data/MNIST/raw/train-images-idx3-ubyte.gz to ../data/MNIST/raw\n",
            "\n",
            "Downloading http://yann.lecun.com/exdb/mnist/train-labels-idx1-ubyte.gz\n",
            "Downloading http://yann.lecun.com/exdb/mnist/train-labels-idx1-ubyte.gz to ../data/MNIST/raw/train-labels-idx1-ubyte.gz\n"
          ],
          "name": "stdout"
        },
        {
          "output_type": "display_data",
          "data": {
            "application/vnd.jupyter.widget-view+json": {
              "model_id": "4d3be368c16c45bb927e5f7c0da5c375",
              "version_minor": 0,
              "version_major": 2
            },
            "text/plain": [
              "HBox(children=(FloatProgress(value=0.0, max=28881.0), HTML(value='')))"
            ]
          },
          "metadata": {
            "tags": []
          }
        },
        {
          "output_type": "stream",
          "text": [
            "\n",
            "Extracting ../data/MNIST/raw/train-labels-idx1-ubyte.gz to ../data/MNIST/raw\n",
            "\n",
            "Downloading http://yann.lecun.com/exdb/mnist/t10k-images-idx3-ubyte.gz\n",
            "Downloading http://yann.lecun.com/exdb/mnist/t10k-images-idx3-ubyte.gz to ../data/MNIST/raw/t10k-images-idx3-ubyte.gz\n",
            "Failed to download (trying next):\n",
            "HTTP Error 503: Service Unavailable\n",
            "\n",
            "Downloading https://ossci-datasets.s3.amazonaws.com/mnist/t10k-images-idx3-ubyte.gz\n",
            "Downloading https://ossci-datasets.s3.amazonaws.com/mnist/t10k-images-idx3-ubyte.gz to ../data/MNIST/raw/t10k-images-idx3-ubyte.gz\n"
          ],
          "name": "stdout"
        },
        {
          "output_type": "display_data",
          "data": {
            "application/vnd.jupyter.widget-view+json": {
              "model_id": "0653267df02c47e4a6af7b73cdea43ea",
              "version_minor": 0,
              "version_major": 2
            },
            "text/plain": [
              "HBox(children=(FloatProgress(value=0.0, max=1648877.0), HTML(value='')))"
            ]
          },
          "metadata": {
            "tags": []
          }
        },
        {
          "output_type": "stream",
          "text": [
            "\n",
            "Extracting ../data/MNIST/raw/t10k-images-idx3-ubyte.gz to ../data/MNIST/raw\n",
            "\n",
            "Downloading http://yann.lecun.com/exdb/mnist/t10k-labels-idx1-ubyte.gz\n",
            "Downloading http://yann.lecun.com/exdb/mnist/t10k-labels-idx1-ubyte.gz to ../data/MNIST/raw/t10k-labels-idx1-ubyte.gz\n"
          ],
          "name": "stdout"
        },
        {
          "output_type": "display_data",
          "data": {
            "application/vnd.jupyter.widget-view+json": {
              "model_id": "f5d16b0046aa4c118c41b9b55ff695af",
              "version_minor": 0,
              "version_major": 2
            },
            "text/plain": [
              "HBox(children=(FloatProgress(value=0.0, max=4542.0), HTML(value='')))"
            ]
          },
          "metadata": {
            "tags": []
          }
        },
        {
          "output_type": "stream",
          "text": [
            "\n",
            "Extracting ../data/MNIST/raw/t10k-labels-idx1-ubyte.gz to ../data/MNIST/raw\n",
            "\n",
            "Processing...\n",
            "Done!\n"
          ],
          "name": "stdout"
        },
        {
          "output_type": "stream",
          "text": [
            "/usr/local/lib/python3.7/dist-packages/torchvision/datasets/mnist.py:502: UserWarning: The given NumPy array is not writeable, and PyTorch does not support non-writeable tensors. This means you can write to the underlying (supposedly non-writeable) NumPy array using the tensor. You may want to copy the array to protect its data or make it writeable before converting it to a tensor. This type of warning will be suppressed for the rest of this program. (Triggered internally at  /pytorch/torch/csrc/utils/tensor_numpy.cpp:143.)\n",
            "  return torch.from_numpy(parsed.astype(m[2], copy=False)).view(*s)\n"
          ],
          "name": "stderr"
        }
      ]
    },
    {
      "cell_type": "markdown",
      "metadata": {
        "id": "hJkfLC84zezT"
      },
      "source": [
        "# Create Data Loaders for Train and Test set"
      ]
    },
    {
      "cell_type": "code",
      "metadata": {
        "id": "gOfabbdWPS1Q"
      },
      "source": [
        "torch.manual_seed(1)\n",
        "if use_cuda:\n",
        "    torch.cuda.manual_seed(1)\n",
        "\n",
        "batch_size=128\n",
        "\n",
        "kwargs = {'num_workers': 2, 'pin_memory': True} if use_cuda else {}\n",
        "\n",
        "\n",
        "train_loader = torch.utils.data.DataLoader(train_set, batch_size=batch_size, shuffle=True, **kwargs)\n",
        "\n",
        "test_loader = torch.utils.data.DataLoader(test_set, batch_size=batch_size, shuffle=True, **kwargs)"
      ],
      "execution_count": 5,
      "outputs": []
    },
    {
      "cell_type": "markdown",
      "metadata": {
        "id": "81rwY5oiz8w-"
      },
      "source": [
        "# Define Train and Test Functions"
      ]
    },
    {
      "cell_type": "code",
      "metadata": {
        "id": "6GaDH1PwPUxd"
      },
      "source": [
        "def train(model, device, train_loader, optimizer, epoch):\n",
        "    model.train()\n",
        "    correct = 0\n",
        "    processed = 0\n",
        "    lambda_l1 = 0.0001\n",
        "    total_loss = 0\n",
        "    for data, target in train_loader:\n",
        "        data, target = data.to(device), target.to(device)\n",
        "        optimizer.zero_grad()\n",
        "        output = model(data)\n",
        "        loss = F.nll_loss(output, target)\n",
        "        l1 = 0\n",
        "        for p in model.parameters():\n",
        "          l1 = l1 + p.abs().sum()\n",
        "        loss = loss + lambda_l1 * l1\n",
        "        total_loss += loss\n",
        "        loss.backward()\n",
        "        optimizer.step()\n",
        "        predictions = output.argmax(dim=1, keepdim=True)\n",
        "        correct += predictions.eq(target.view_as(predictions)).sum().item()\n",
        "        processed += len(data)\n",
        "    training_losses.append(total_loss)\n",
        "        #pbar.set_description(desc= f'Train set: Accuracy={100*correct/processed:0.1f}')\n",
        "    training_accuracy.append(100*correct/processed)\n",
        "    print('Loss = ', loss)\n",
        "    print('L1 = ', l1)\n",
        "    print('Train set: Accuracy={:0.1f}'.format(100*correct/processed))\n",
        "\n",
        "\n",
        "\n",
        "def test(model, device, test_loader):\n",
        "    model.eval()\n",
        "    test_loss = 0\n",
        "    correct = 0\n",
        "    with torch.no_grad():\n",
        "        for data, target in test_loader:\n",
        "            data, target = data.to(device), target.to(device)\n",
        "            output = model(data)\n",
        "            test_loss += F.nll_loss(output, target, reduction='sum').item()\n",
        "            predictions = output.argmax(dim=1, keepdim=True)\n",
        "            correct += predictions.eq(target.view_as(predictions)).sum().item()\n",
        "\n",
        "    test_loss /= len(test_loader.dataset)\n",
        "    testing_losses.append(test_loss)\n",
        "\n",
        "    print('Test set: Average loss: {:.4f}, Accuracy: {}/{} ({:.1f}%)\\n'.format(\n",
        "        test_loss, correct, len(test_loader.dataset),\n",
        "        100. * correct / len(test_loader.dataset)))\n",
        "    testing_accuracy.append(100. * correct / len(test_loader.dataset))"
      ],
      "execution_count": 6,
      "outputs": []
    },
    {
      "cell_type": "markdown",
      "metadata": {
        "id": "5dusPis40Kgz"
      },
      "source": [
        "# Train and Test the Model\n",
        "Use LR Scheduling"
      ]
    },
    {
      "cell_type": "code",
      "metadata": {
        "colab": {
          "base_uri": "https://localhost:8080/"
        },
        "id": "nDrBzboiTIT2",
        "outputId": "fa6e4066-a845-4819-ef35-643d483c5010"
      },
      "source": [
        "from torch.optim.lr_scheduler import StepLR,OneCycleLR\n",
        "\n",
        "# will be used while plotting graphs\n",
        "\n",
        "training_losses = []\n",
        "testing_losses = []\n",
        "training_accuracy = []\n",
        "testing_accuracy = []\n",
        "\n",
        "\n",
        "model = Net(\"group\").to(device)\n",
        "optimizer = optim.SGD(model.parameters(), lr=0.01, momentum=0.9)\n",
        "scheduler = StepLR(optimizer, step_size=6, gamma=0.1)\n",
        "\n",
        "for epoch in range(1, 20):\n",
        "    print(\"EPOCH:\", epoch, \"LR = \", scheduler.get_lr())\n",
        "    train(model, device, train_loader, optimizer, epoch)\n",
        "    test(model, device, test_loader)\n",
        "    scheduler.step()\n"
      ],
      "execution_count": 7,
      "outputs": [
        {
          "output_type": "stream",
          "text": [
            "EPOCH: 1 LR =  [0.01]\n"
          ],
          "name": "stdout"
        },
        {
          "output_type": "stream",
          "text": [
            "/usr/local/lib/python3.7/dist-packages/torch/optim/lr_scheduler.py:370: UserWarning: To get the last learning rate computed by the scheduler, please use `get_last_lr()`.\n",
            "  \"please use `get_last_lr()`.\", UserWarning)\n"
          ],
          "name": "stderr"
        },
        {
          "output_type": "stream",
          "text": [
            "Loss =  tensor(0.1740, device='cuda:0', grad_fn=<AddBackward0>)\n",
            "L1 =  tensor(607.1976, device='cuda:0', grad_fn=<AddBackward0>)\n",
            "Train set: Accuracy=80.6\n",
            "Test set: Average loss: 0.1191, Accuracy: 9702/10000 (97.0%)\n",
            "\n",
            "EPOCH: 2 LR =  [0.01]\n",
            "Loss =  tensor(0.1280, device='cuda:0', grad_fn=<AddBackward0>)\n",
            "L1 =  tensor(633.0626, device='cuda:0', grad_fn=<AddBackward0>)\n",
            "Train set: Accuracy=96.5\n",
            "Test set: Average loss: 0.0738, Accuracy: 9777/10000 (97.8%)\n",
            "\n",
            "EPOCH: 3 LR =  [0.01]\n",
            "Loss =  tensor(0.1982, device='cuda:0', grad_fn=<AddBackward0>)\n",
            "L1 =  tensor(644.5521, device='cuda:0', grad_fn=<AddBackward0>)\n",
            "Train set: Accuracy=97.4\n",
            "Test set: Average loss: 0.0657, Accuracy: 9804/10000 (98.0%)\n",
            "\n",
            "EPOCH: 4 LR =  [0.01]\n",
            "Loss =  tensor(0.1658, device='cuda:0', grad_fn=<AddBackward0>)\n",
            "L1 =  tensor(646.8822, device='cuda:0', grad_fn=<AddBackward0>)\n",
            "Train set: Accuracy=97.9\n",
            "Test set: Average loss: 0.0467, Accuracy: 9865/10000 (98.7%)\n",
            "\n",
            "EPOCH: 5 LR =  [0.01]\n",
            "Loss =  tensor(0.1601, device='cuda:0', grad_fn=<AddBackward0>)\n",
            "L1 =  tensor(647.5585, device='cuda:0', grad_fn=<AddBackward0>)\n",
            "Train set: Accuracy=98.1\n",
            "Test set: Average loss: 0.0430, Accuracy: 9881/10000 (98.8%)\n",
            "\n",
            "EPOCH: 6 LR =  [0.01]\n",
            "Loss =  tensor(0.1752, device='cuda:0', grad_fn=<AddBackward0>)\n",
            "L1 =  tensor(647.4739, device='cuda:0', grad_fn=<AddBackward0>)\n",
            "Train set: Accuracy=98.2\n",
            "Test set: Average loss: 0.0355, Accuracy: 9907/10000 (99.1%)\n",
            "\n",
            "EPOCH: 7 LR =  [0.0001]\n",
            "Loss =  tensor(0.1156, device='cuda:0', grad_fn=<AddBackward0>)\n",
            "L1 =  tensor(644.7309, device='cuda:0', grad_fn=<AddBackward0>)\n",
            "Train set: Accuracy=98.9\n",
            "Test set: Average loss: 0.0277, Accuracy: 9925/10000 (99.2%)\n",
            "\n",
            "EPOCH: 8 LR =  [0.001]\n",
            "Loss =  tensor(0.0872, device='cuda:0', grad_fn=<AddBackward0>)\n",
            "L1 =  tensor(641.8966, device='cuda:0', grad_fn=<AddBackward0>)\n",
            "Train set: Accuracy=99.0\n",
            "Test set: Average loss: 0.0273, Accuracy: 9921/10000 (99.2%)\n",
            "\n",
            "EPOCH: 9 LR =  [0.001]\n",
            "Loss =  tensor(0.0732, device='cuda:0', grad_fn=<AddBackward0>)\n",
            "L1 =  tensor(639.2585, device='cuda:0', grad_fn=<AddBackward0>)\n",
            "Train set: Accuracy=99.0\n",
            "Test set: Average loss: 0.0268, Accuracy: 9931/10000 (99.3%)\n",
            "\n",
            "EPOCH: 10 LR =  [0.001]\n",
            "Loss =  tensor(0.0754, device='cuda:0', grad_fn=<AddBackward0>)\n",
            "L1 =  tensor(636.6477, device='cuda:0', grad_fn=<AddBackward0>)\n",
            "Train set: Accuracy=99.0\n",
            "Test set: Average loss: 0.0266, Accuracy: 9923/10000 (99.2%)\n",
            "\n",
            "EPOCH: 11 LR =  [0.001]\n",
            "Loss =  tensor(0.0713, device='cuda:0', grad_fn=<AddBackward0>)\n",
            "L1 =  tensor(634.0925, device='cuda:0', grad_fn=<AddBackward0>)\n",
            "Train set: Accuracy=99.1\n",
            "Test set: Average loss: 0.0265, Accuracy: 9928/10000 (99.3%)\n",
            "\n",
            "EPOCH: 12 LR =  [0.001]\n",
            "Loss =  tensor(0.0931, device='cuda:0', grad_fn=<AddBackward0>)\n",
            "L1 =  tensor(631.5726, device='cuda:0', grad_fn=<AddBackward0>)\n",
            "Train set: Accuracy=99.0\n",
            "Test set: Average loss: 0.0260, Accuracy: 9926/10000 (99.3%)\n",
            "\n",
            "EPOCH: 13 LR =  [1e-05]\n",
            "Loss =  tensor(0.1014, device='cuda:0', grad_fn=<AddBackward0>)\n",
            "L1 =  tensor(631.2922, device='cuda:0', grad_fn=<AddBackward0>)\n",
            "Train set: Accuracy=99.1\n",
            "Test set: Average loss: 0.0248, Accuracy: 9932/10000 (99.3%)\n",
            "\n",
            "EPOCH: 14 LR =  [0.0001]\n",
            "Loss =  tensor(0.0721, device='cuda:0', grad_fn=<AddBackward0>)\n",
            "L1 =  tensor(631.0323, device='cuda:0', grad_fn=<AddBackward0>)\n",
            "Train set: Accuracy=99.1\n",
            "Test set: Average loss: 0.0248, Accuracy: 9931/10000 (99.3%)\n",
            "\n",
            "EPOCH: 15 LR =  [0.0001]\n",
            "Loss =  tensor(0.1367, device='cuda:0', grad_fn=<AddBackward0>)\n",
            "L1 =  tensor(630.7694, device='cuda:0', grad_fn=<AddBackward0>)\n",
            "Train set: Accuracy=99.1\n",
            "Test set: Average loss: 0.0247, Accuracy: 9932/10000 (99.3%)\n",
            "\n",
            "EPOCH: 16 LR =  [0.0001]\n",
            "Loss =  tensor(0.0703, device='cuda:0', grad_fn=<AddBackward0>)\n",
            "L1 =  tensor(630.5005, device='cuda:0', grad_fn=<AddBackward0>)\n",
            "Train set: Accuracy=99.1\n",
            "Test set: Average loss: 0.0247, Accuracy: 9933/10000 (99.3%)\n",
            "\n",
            "EPOCH: 17 LR =  [0.0001]\n",
            "Loss =  tensor(0.0806, device='cuda:0', grad_fn=<AddBackward0>)\n",
            "L1 =  tensor(630.2354, device='cuda:0', grad_fn=<AddBackward0>)\n",
            "Train set: Accuracy=99.1\n",
            "Test set: Average loss: 0.0245, Accuracy: 9934/10000 (99.3%)\n",
            "\n",
            "EPOCH: 18 LR =  [0.0001]\n",
            "Loss =  tensor(0.0778, device='cuda:0', grad_fn=<AddBackward0>)\n",
            "L1 =  tensor(629.9730, device='cuda:0', grad_fn=<AddBackward0>)\n",
            "Train set: Accuracy=99.1\n",
            "Test set: Average loss: 0.0244, Accuracy: 9933/10000 (99.3%)\n",
            "\n",
            "EPOCH: 19 LR =  [1.0000000000000002e-06]\n",
            "Loss =  tensor(0.0797, device='cuda:0', grad_fn=<AddBackward0>)\n",
            "L1 =  tensor(629.9453, device='cuda:0', grad_fn=<AddBackward0>)\n",
            "Train set: Accuracy=99.2\n",
            "Test set: Average loss: 0.0244, Accuracy: 9933/10000 (99.3%)\n",
            "\n"
          ],
          "name": "stdout"
        }
      ]
    },
    {
      "cell_type": "code",
      "metadata": {
        "colab": {
          "base_uri": "https://localhost:8080/",
          "height": 370
        },
        "id": "VSSZ5tKPedPw",
        "outputId": "277d9532-4325-4e18-9510-2fd7c9a9eab4"
      },
      "source": [
        "import numpy as np\n",
        "plt.rcParams['figure.figsize'] = [15, 6]\n",
        "\n",
        "def training_curves():\n",
        "  plt.subplot(1,2, 1)\n",
        "\n",
        "  plt.plot(np.array(training_accuracy))\n",
        "  plt.plot(np.array(testing_accuracy), 'r')\n",
        "  plt.legend([\"Train Accuracy\", \"Test Accuracy\"])\n",
        "  plt.title(\"Train vs Test Accuracy\")\n",
        "\n",
        "  plt.subplot(1,2,2)\n",
        "  plt.plot(training_losses)\n",
        "  plt.plot(testing_losses, 'r')\n",
        "  plt.legend([\"Train Loss\", \"Test Loss\"])\n",
        "  plt.title(\"Train vs Test Loss\")\n",
        "\n",
        "training_curves()"
      ],
      "execution_count": 8,
      "outputs": [
        {
          "output_type": "display_data",
          "data": {
            "image/png": "[encoded data removed]",
            "text/plain": [
              "<Figure size 1080x432 with 2 Axes>"
            ]
          },
          "metadata": {
            "tags": [],
            "needs_background": "light"
          }
        }
      ]
    },
    {
      "cell_type": "code",
      "metadata": {
        "id": "6o86bfyj3TiK"
      },
      "source": [
        ""
      ],
      "execution_count": 8,
      "outputs": []
    }
  ]
}