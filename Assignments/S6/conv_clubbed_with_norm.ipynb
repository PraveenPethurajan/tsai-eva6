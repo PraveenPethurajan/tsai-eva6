{
  "nbformat": 4,
  "nbformat_minor": 0,
  "metadata": {
    "accelerator": "GPU",
    "colab": {
      "name": "conv_clubbed_with_norm.ipynb",
      "provenance": [],
      "collapsed_sections": [],
      "include_colab_link": true
    },
    "kernelspec": {
      "display_name": "Python 3",
      "name": "python3"
    }
  },
  "cells": [
    {
      "cell_type": "markdown",
      "metadata": {
        "id": "view-in-github",
        "colab_type": "text"
      },
      "source": [
        "<a href=\"https://colab.research.google.com/github/amanjain487/tsai-eva6/blob/main/Assignments/S6/conv_clubbed_with_norm.ipynb\" target=\"_parent\"><img src=\"https://colab.research.google.com/assets/colab-badge.svg\" alt=\"Open In Colab\"/></a>"
      ]
    },
    {
      "cell_type": "markdown",
      "metadata": {
        "id": "8dcfzPkqqsbr"
      },
      "source": [
        "# Import Libraries"
      ]
    },
    {
      "cell_type": "code",
      "metadata": {
        "id": "0m2JWFliFfKT"
      },
      "source": [
        "from __future__ import print_function\n",
        "import torch\n",
        "import torch.nn as nn\n",
        "import torch.nn.functional as F\n",
        "import torch.optim as optim\n",
        "from torchvision import datasets, transforms\n",
        "\n",
        "from torchsummary import summary\n",
        "\n",
        "%matplotlib inline\n",
        "import matplotlib.pyplot as plt\n"
      ],
      "execution_count": 2,
      "outputs": []
    },
    {
      "cell_type": "markdown",
      "metadata": {
        "id": "UnFjvVQzrH34"
      },
      "source": [
        "# Define Model Architecture\n",
        "Lets define the convolution blocks and the forward function."
      ]
    },
    {
      "cell_type": "code",
      "metadata": {
        "id": "3UCjonfCX-9B"
      },
      "source": [
        "def fuse_conv_and_normalization(conv, normalization_type):\n",
        "  fusedconv = torch.nn.Conv2d(\n",
        "      conv.in_channels,\n",
        "      conv.out_channels,\n",
        "      kernel_size=conv.kernel_size,\n",
        "      stride=conv.stride,\n",
        "      padding=conv.padding,\n",
        "      bias=conv.bias\n",
        "      )\n",
        "  if normalization_type==\"batch\":\n",
        "    bnl = nn.BatchNorm2d(conv.out_channels)\n",
        "  return nn.Sequential(fusedconv,bnl)\n",
        " \n",
        "class Net(nn.Module):\n",
        "\n",
        "  def __init__(self, normalization_type):\n",
        "      super(Net, self).__init__()\n",
        "      # RF = 1\n",
        "\n",
        "      self.normalization_type = normalization_type\n",
        "      self.conv1 = nn.Sequential(\n",
        "          fuse_conv_and_normalization(nn.Conv2d(1, 32, 3, padding=1, bias=False), self.normalization_type),\n",
        "          # nn.Conv2d(1, 32, 3, padding=1, bias=False),\n",
        "          # nn.BatchNorm2d(32),\n",
        "          nn.Dropout(0.01),\n",
        "          nn.ReLU()\n",
        "      ) \n",
        "      # input_size = 28x28x1\n",
        "      # output_size = 28x28x32\n",
        "      # RF = 3\n",
        "\n",
        "\n",
        "      self.conv2 = nn.Sequential(\n",
        "          nn.Conv2d(32, 10, 1, padding=0, bias=False),\n",
        "          fuse_conv_and_normalization(nn.Conv2d(10, 10, 3, padding=1, bias=False), self.normalization_type),\n",
        "          # nn.Conv2d(10, 10, 3, padding=1, bias=False),\n",
        "          # nn.BatchNorm2d(10),\n",
        "          nn.Dropout(0.01),\n",
        "          nn.ReLU()\n",
        "      ) \n",
        "      # input_size = 28x28x32\n",
        "      # output_size = 28x28x10\n",
        "      # RF = 5\n",
        "\n",
        "      self.pool1 = nn.MaxPool2d(2, 2) \n",
        "      # input_size = 28x28x10\n",
        "      # output_size = 14x14x10\n",
        "      # RF = 10\n",
        "\n",
        "\n",
        "      self.conv3 = nn.Sequential(\n",
        "          # nn.Conv2d(10, 10, 3, padding=0, bias=False),\n",
        "          # nn.BatchNorm2d(10),\n",
        "          fuse_conv_and_normalization(nn.Conv2d(10, 10, 3, padding=0, bias=False), self.normalization_type),\n",
        "          nn.Dropout(0.01),\n",
        "          nn.ReLU()\n",
        "      ) \n",
        "      # input_size = 14x14x10\n",
        "      # output_size = 12x12x10\n",
        "      # RF = 12\n",
        "\n",
        "      self.conv4 = nn.Sequential(\n",
        "          fuse_conv_and_normalization(nn.Conv2d(10, 10, 3, padding=0, bias=False), self.normalization_type),\n",
        "          # nn.Conv2d(10, 10, 3, padding=0, bias=False),\n",
        "          # nn.BatchNorm2d(10),\n",
        "          nn.ReLU()\n",
        "      ) \n",
        "      # input_size = 12x12x10\n",
        "      # output_size = 10x10x10\n",
        "      # RF = 14\n",
        "\n",
        "      self.conv5 = nn.Sequential(\n",
        "          fuse_conv_and_normalization(nn.Conv2d(10, 10, 3, padding=0, bias=False), self.normalization_type),\n",
        "          # nn.Conv2d(10, 10, 3, padding=0, bias=False),\n",
        "          # nn.BatchNorm2d(10),\n",
        "          nn.Dropout(0.01),\n",
        "          nn.ReLU()\n",
        "      ) \n",
        "      # input_size = 10x10x10\n",
        "      # output_size = 8x8x10\n",
        "      # RF = 16\n",
        "\n",
        "      self.conv6 = nn.Sequential(\n",
        "          fuse_conv_and_normalization(nn.Conv2d(10, 16, 3, padding=0, bias=False), self.normalization_type),\n",
        "          # nn.Conv2d(10, 16, 3, padding=0, bias=False),\n",
        "          # nn.BatchNorm2d(16),\n",
        "          nn.Dropout(0.01),\n",
        "          nn.ReLU()\n",
        "      ) \n",
        "      # input_size = 8x8x10\n",
        "      # output_size = 6x6x16\n",
        "      # RF = 18\n",
        "\n",
        "      self.conv7 = nn.Sequential(\n",
        "          fuse_conv_and_normalization( nn.Conv2d(16, 10, 3, padding=0, bias=False), self.normalization_type),\n",
        "          # nn.Conv2d(16, 10, 3, padding=0, bias=False),\n",
        "          # nn.BatchNorm2d(10),\n",
        "          nn.Dropout(0.01),\n",
        "          nn.ReLU()\n",
        "      ) \n",
        "      # input_size = 6x6x16\n",
        "      # output_size = 4x4x10\n",
        "      # RF = 20\n",
        "\n",
        "      self.gap1 = nn.AvgPool2d(4) \n",
        "      # input_size = 4x4x10\n",
        "      # output_size = 1x1x10\n",
        "      # RF = 20\n",
        "\n",
        "      self.fc1 = nn.Sequential(\n",
        "          nn.Linear(10, 10, bias=False)\n",
        "      ) \n",
        "      # input_size = 1x1x10\n",
        "      # output_size = 1x1x10\n",
        "      # RF = 20\n",
        "\n",
        "  def forward(self, x):\n",
        "      x = self.conv1(x)\n",
        "      x = self.conv2(x)\n",
        "      x = self.pool1(x)\n",
        "      x = self.conv3(x)\n",
        "      x = self.conv4(x)\n",
        "      x = self.conv5(x)\n",
        "      x = self.conv6(x)\n",
        "      x = self.conv7(x)\n",
        "      x = self.gap1(x)\n",
        "      x = x.reshape(-1,10)\n",
        "      x = self.fc1(x)\n",
        "      x = x.view(-1, 10)\n",
        "      return F.log_softmax(x, dim=-1)"
      ],
      "execution_count": 32,
      "outputs": []
    },
    {
      "cell_type": "markdown",
      "metadata": {
        "id": "WSYRwdRnuWEm"
      },
      "source": [
        "# Model Summary and Paramters\n",
        "Print the model parameters and output shape at each layer by giving dummy input to torchsummary"
      ]
    },
    {
      "cell_type": "code",
      "metadata": {
        "colab": {
          "base_uri": "https://localhost:8080/"
        },
        "id": "N93k-_eViKPI",
        "outputId": "97ebc2a6-00fb-413b-f3bc-4c0402cd9b83"
      },
      "source": [
        "!pip install torchsummary\n",
        "use_cuda = torch.cuda.is_available()\n",
        "device = torch.device(\"cuda\" if use_cuda else \"cpu\")\n",
        "print(device)\n",
        "model = Net(\"batch\").to(device)\n",
        "summary(model, input_size=(1, 28, 28))"
      ],
      "execution_count": 33,
      "outputs": [
        {
          "output_type": "stream",
          "text": [
            "Requirement already satisfied: torchsummary in /usr/local/lib/python3.7/dist-packages (1.5.1)\n",
            "cuda\n",
            "----------------------------------------------------------------\n",
            "        Layer (type)               Output Shape         Param #\n",
            "================================================================\n",
            "            Conv2d-1           [-1, 32, 28, 28]             288\n",
            "       BatchNorm2d-2           [-1, 32, 28, 28]              64\n",
            "           Dropout-3           [-1, 32, 28, 28]               0\n",
            "              ReLU-4           [-1, 32, 28, 28]               0\n",
            "            Conv2d-5           [-1, 10, 28, 28]             320\n",
            "            Conv2d-6           [-1, 10, 28, 28]             900\n",
            "       BatchNorm2d-7           [-1, 10, 28, 28]              20\n",
            "           Dropout-8           [-1, 10, 28, 28]               0\n",
            "              ReLU-9           [-1, 10, 28, 28]               0\n",
            "        MaxPool2d-10           [-1, 10, 14, 14]               0\n",
            "           Conv2d-11           [-1, 10, 12, 12]             900\n",
            "      BatchNorm2d-12           [-1, 10, 12, 12]              20\n",
            "          Dropout-13           [-1, 10, 12, 12]               0\n",
            "             ReLU-14           [-1, 10, 12, 12]               0\n",
            "           Conv2d-15           [-1, 10, 10, 10]             900\n",
            "      BatchNorm2d-16           [-1, 10, 10, 10]              20\n",
            "             ReLU-17           [-1, 10, 10, 10]               0\n",
            "           Conv2d-18             [-1, 10, 8, 8]             900\n",
            "      BatchNorm2d-19             [-1, 10, 8, 8]              20\n",
            "          Dropout-20             [-1, 10, 8, 8]               0\n",
            "             ReLU-21             [-1, 10, 8, 8]               0\n",
            "           Conv2d-22             [-1, 16, 6, 6]           1,440\n",
            "      BatchNorm2d-23             [-1, 16, 6, 6]              32\n",
            "          Dropout-24             [-1, 16, 6, 6]               0\n",
            "             ReLU-25             [-1, 16, 6, 6]               0\n",
            "           Conv2d-26             [-1, 10, 4, 4]           1,440\n",
            "      BatchNorm2d-27             [-1, 10, 4, 4]              20\n",
            "          Dropout-28             [-1, 10, 4, 4]               0\n",
            "             ReLU-29             [-1, 10, 4, 4]               0\n",
            "        AvgPool2d-30             [-1, 10, 1, 1]               0\n",
            "           Linear-31                   [-1, 10]             100\n",
            "================================================================\n",
            "Total params: 7,384\n",
            "Trainable params: 7,384\n",
            "Non-trainable params: 0\n",
            "----------------------------------------------------------------\n",
            "Input size (MB): 0.00\n",
            "Forward/backward pass size (MB): 1.19\n",
            "Params size (MB): 0.03\n",
            "Estimated Total Size (MB): 1.22\n",
            "----------------------------------------------------------------\n"
          ],
          "name": "stdout"
        }
      ]
    },
    {
      "cell_type": "markdown",
      "metadata": {
        "id": "YCXWP0v83Jca"
      },
      "source": [
        "# Split Dataset into Train set and Test set"
      ]
    },
    {
      "cell_type": "code",
      "metadata": {
        "id": "gzVTKIkR2ikb"
      },
      "source": [
        "train_set = datasets.MNIST('../data', \n",
        "                   train=True, \n",
        "                   download=True,\n",
        "                   transform=transforms.Compose([\n",
        "                                       transforms.RandomRotation((-7.5, 7.5), fill=(1,)),\n",
        "                                       transforms.ToTensor(),\n",
        "                                       transforms.Normalize((0.1307,), (0.3081,)) \n",
        "                                       # The mean and std have to be sequences (e.g., tuples), therefore you should add a comma after the values. \n",
        "                                       ]))\n",
        "\n",
        "\n",
        "test_set = datasets.MNIST('../data', \n",
        "                   train=False, \n",
        "                   download=True,\n",
        "                   transform=transforms.Compose([\n",
        "                                       transforms.ToTensor(),\n",
        "                                       transforms.Normalize((0.1307,), (0.3081,))\n",
        "                                       ]))"
      ],
      "execution_count": 35,
      "outputs": []
    },
    {
      "cell_type": "markdown",
      "metadata": {
        "id": "hJkfLC84zezT"
      },
      "source": [
        "# Create Data Loaders for Train and Test set"
      ]
    },
    {
      "cell_type": "code",
      "metadata": {
        "id": "gOfabbdWPS1Q"
      },
      "source": [
        "torch.manual_seed(1)\n",
        "if use_cuda:\n",
        "    torch.cuda.manual_seed(1)\n",
        "\n",
        "batch_size=128\n",
        "\n",
        "kwargs = {'num_workers': 2, 'pin_memory': True} if use_cuda else {}\n",
        "\n",
        "\n",
        "train_loader = torch.utils.data.DataLoader(train_set, batch_size=batch_size, shuffle=True, **kwargs)\n",
        "\n",
        "test_loader = torch.utils.data.DataLoader(test_set, batch_size=batch_size, shuffle=True, **kwargs)"
      ],
      "execution_count": 36,
      "outputs": []
    },
    {
      "cell_type": "markdown",
      "metadata": {
        "id": "81rwY5oiz8w-"
      },
      "source": [
        "# Define Train and Test Functions"
      ]
    },
    {
      "cell_type": "code",
      "metadata": {
        "id": "6GaDH1PwPUxd"
      },
      "source": [
        "def train(model, device, train_loader, optimizer, epoch):\n",
        "    model.train()\n",
        "    correct = 0\n",
        "    processed = 0\n",
        "    lambda_l1 = 0.0001\n",
        "    total_loss = 0\n",
        "    for data, target in train_loader:\n",
        "        data, target = data.to(device), target.to(device)\n",
        "        optimizer.zero_grad()\n",
        "        output = model(data)\n",
        "        loss = F.nll_loss(output, target)\n",
        "        l1 = 0\n",
        "        for p in model.parameters():\n",
        "          l1 = l1 + p.abs().sum()\n",
        "        loss = loss + lambda_l1 * l1\n",
        "        total_loss += loss\n",
        "        loss.backward()\n",
        "        optimizer.step()\n",
        "        predictions = output.argmax(dim=1, keepdim=True)\n",
        "        correct += predictions.eq(target.view_as(predictions)).sum().item()\n",
        "        processed += len(data)\n",
        "    training_losses.append(total_loss)\n",
        "        #pbar.set_description(desc= f'Train set: Accuracy={100*correct/processed:0.1f}')\n",
        "    training_accuracy.append(100*correct/processed)\n",
        "    print('Loss = ', loss)\n",
        "    print('L1 = ', l1)\n",
        "    print('Train set: Accuracy={:0.1f}'.format(100*correct/processed))\n",
        "\n",
        "\n",
        "\n",
        "def test(model, device, test_loader):\n",
        "    model.eval()\n",
        "    test_loss = 0\n",
        "    correct = 0\n",
        "    with torch.no_grad():\n",
        "        for data, target in test_loader:\n",
        "            data, target = data.to(device), target.to(device)\n",
        "            output = model(data)\n",
        "            test_loss += F.nll_loss(output, target, reduction='sum').item()\n",
        "            predictions = output.argmax(dim=1, keepdim=True)\n",
        "            correct += predictions.eq(target.view_as(predictions)).sum().item()\n",
        "\n",
        "    test_loss /= len(test_loader.dataset)\n",
        "    testing_losses.append(test_loss)\n",
        "\n",
        "    print('Test set: Average loss: {:.4f}, Accuracy: {}/{} ({:.1f}%)\\n'.format(\n",
        "        test_loss, correct, len(test_loader.dataset),\n",
        "        100. * correct / len(test_loader.dataset)))\n",
        "    testing_accuracy.append(100. * correct / len(test_loader.dataset))"
      ],
      "execution_count": 37,
      "outputs": []
    },
    {
      "cell_type": "markdown",
      "metadata": {
        "id": "5dusPis40Kgz"
      },
      "source": [
        "# Train and Test the Model\n",
        "Use LR Scheduling"
      ]
    },
    {
      "cell_type": "code",
      "metadata": {
        "colab": {
          "base_uri": "https://localhost:8080/"
        },
        "id": "nDrBzboiTIT2",
        "outputId": "8bb5dae2-e2f4-4f19-d182-84641ea2005b"
      },
      "source": [
        "from torch.optim.lr_scheduler import StepLR,OneCycleLR\n",
        "\n",
        "# will be used while plotting graphs\n",
        "\n",
        "training_losses = []\n",
        "testing_losses = []\n",
        "training_accuracy = []\n",
        "testing_accuracy = []\n",
        "\n",
        "\n",
        "model = Net(\"batch\").to(device)\n",
        "optimizer = optim.SGD(model.parameters(), lr=0.01, momentum=0.9)\n",
        "scheduler = StepLR(optimizer, step_size=6, gamma=0.1)\n",
        "\n",
        "for epoch in range(1, 20):\n",
        "    print(\"EPOCH:\", epoch, \"LR = \", scheduler.get_lr())\n",
        "    train(model, device, train_loader, optimizer, epoch)\n",
        "    test(model, device, test_loader)\n",
        "    scheduler.step()\n"
      ],
      "execution_count": 40,
      "outputs": [
        {
          "output_type": "stream",
          "text": [
            "EPOCH: 1 LR =  [0.01]\n"
          ],
          "name": "stdout"
        },
        {
          "output_type": "stream",
          "text": [
            "/usr/local/lib/python3.7/dist-packages/torch/optim/lr_scheduler.py:370: UserWarning: To get the last learning rate computed by the scheduler, please use `get_last_lr()`.\n",
            "  \"please use `get_last_lr()`.\", UserWarning)\n"
          ],
          "name": "stderr"
        },
        {
          "output_type": "stream",
          "text": [
            "Loss =  tensor(0.1381, device='cuda:0', grad_fn=<AddBackward0>)\n",
            "L1 =  tensor(563.0107, device='cuda:0', grad_fn=<AddBackward0>)\n",
            "Train set: Accuracy=86.2\n",
            "Test set: Average loss: 0.0755, Accuracy: 9821/10000 (98.2%)\n",
            "\n",
            "EPOCH: 2 LR =  [0.01]\n",
            "Loss =  tensor(0.0762, device='cuda:0', grad_fn=<AddBackward0>)\n",
            "L1 =  tensor(568.0475, device='cuda:0', grad_fn=<AddBackward0>)\n",
            "Train set: Accuracy=97.7\n",
            "Test set: Average loss: 0.0491, Accuracy: 9876/10000 (98.8%)\n",
            "\n",
            "EPOCH: 3 LR =  [0.01]\n",
            "Loss =  tensor(0.1334, device='cuda:0', grad_fn=<AddBackward0>)\n",
            "L1 =  tensor(564.7100, device='cuda:0', grad_fn=<AddBackward0>)\n",
            "Train set: Accuracy=98.2\n",
            "Test set: Average loss: 0.0422, Accuracy: 9880/10000 (98.8%)\n",
            "\n",
            "EPOCH: 4 LR =  [0.01]\n",
            "Loss =  tensor(0.1382, device='cuda:0', grad_fn=<AddBackward0>)\n",
            "L1 =  tensor(559.9190, device='cuda:0', grad_fn=<AddBackward0>)\n",
            "Train set: Accuracy=98.5\n",
            "Test set: Average loss: 0.0400, Accuracy: 9881/10000 (98.8%)\n",
            "\n",
            "EPOCH: 5 LR =  [0.01]\n",
            "Loss =  tensor(0.1551, device='cuda:0', grad_fn=<AddBackward0>)\n",
            "L1 =  tensor(554.9875, device='cuda:0', grad_fn=<AddBackward0>)\n",
            "Train set: Accuracy=98.6\n",
            "Test set: Average loss: 0.0356, Accuracy: 9886/10000 (98.9%)\n",
            "\n",
            "EPOCH: 6 LR =  [0.01]\n",
            "Loss =  tensor(0.1422, device='cuda:0', grad_fn=<AddBackward0>)\n",
            "L1 =  tensor(550.6839, device='cuda:0', grad_fn=<AddBackward0>)\n",
            "Train set: Accuracy=98.6\n",
            "Test set: Average loss: 0.0330, Accuracy: 9907/10000 (99.1%)\n",
            "\n",
            "EPOCH: 7 LR =  [0.0001]\n",
            "Loss =  tensor(0.1193, device='cuda:0', grad_fn=<AddBackward0>)\n",
            "L1 =  tensor(547.4717, device='cuda:0', grad_fn=<AddBackward0>)\n",
            "Train set: Accuracy=99.1\n",
            "Test set: Average loss: 0.0220, Accuracy: 9928/10000 (99.3%)\n",
            "\n",
            "EPOCH: 8 LR =  [0.001]\n",
            "Loss =  tensor(0.0724, device='cuda:0', grad_fn=<AddBackward0>)\n",
            "L1 =  tensor(544.6370, device='cuda:0', grad_fn=<AddBackward0>)\n",
            "Train set: Accuracy=99.2\n",
            "Test set: Average loss: 0.0214, Accuracy: 9934/10000 (99.3%)\n",
            "\n",
            "EPOCH: 9 LR =  [0.001]\n",
            "Loss =  tensor(0.0648, device='cuda:0', grad_fn=<AddBackward0>)\n",
            "L1 =  tensor(541.9861, device='cuda:0', grad_fn=<AddBackward0>)\n",
            "Train set: Accuracy=99.2\n",
            "Test set: Average loss: 0.0217, Accuracy: 9928/10000 (99.3%)\n",
            "\n",
            "EPOCH: 10 LR =  [0.001]\n",
            "Loss =  tensor(0.0734, device='cuda:0', grad_fn=<AddBackward0>)\n",
            "L1 =  tensor(539.4379, device='cuda:0', grad_fn=<AddBackward0>)\n",
            "Train set: Accuracy=99.3\n",
            "Test set: Average loss: 0.0213, Accuracy: 9931/10000 (99.3%)\n",
            "\n",
            "EPOCH: 11 LR =  [0.001]\n",
            "Loss =  tensor(0.0621, device='cuda:0', grad_fn=<AddBackward0>)\n",
            "L1 =  tensor(537.0590, device='cuda:0', grad_fn=<AddBackward0>)\n",
            "Train set: Accuracy=99.2\n",
            "Test set: Average loss: 0.0219, Accuracy: 9926/10000 (99.3%)\n",
            "\n",
            "EPOCH: 12 LR =  [0.001]\n",
            "Loss =  tensor(0.1111, device='cuda:0', grad_fn=<AddBackward0>)\n",
            "L1 =  tensor(534.6050, device='cuda:0', grad_fn=<AddBackward0>)\n",
            "Train set: Accuracy=99.2\n",
            "Test set: Average loss: 0.0205, Accuracy: 9930/10000 (99.3%)\n",
            "\n",
            "EPOCH: 13 LR =  [1e-05]\n",
            "Loss =  tensor(0.1264, device='cuda:0', grad_fn=<AddBackward0>)\n",
            "L1 =  tensor(534.2997, device='cuda:0', grad_fn=<AddBackward0>)\n",
            "Train set: Accuracy=99.3\n",
            "Test set: Average loss: 0.0205, Accuracy: 9929/10000 (99.3%)\n",
            "\n",
            "EPOCH: 14 LR =  [0.0001]\n",
            "Loss =  tensor(0.0592, device='cuda:0', grad_fn=<AddBackward0>)\n",
            "L1 =  tensor(534.0226, device='cuda:0', grad_fn=<AddBackward0>)\n",
            "Train set: Accuracy=99.2\n",
            "Test set: Average loss: 0.0205, Accuracy: 9931/10000 (99.3%)\n",
            "\n",
            "EPOCH: 15 LR =  [0.0001]\n",
            "Loss =  tensor(0.0709, device='cuda:0', grad_fn=<AddBackward0>)\n",
            "L1 =  tensor(533.7525, device='cuda:0', grad_fn=<AddBackward0>)\n",
            "Train set: Accuracy=99.3\n",
            "Test set: Average loss: 0.0201, Accuracy: 9934/10000 (99.3%)\n",
            "\n",
            "EPOCH: 16 LR =  [0.0001]\n",
            "Loss =  tensor(0.0583, device='cuda:0', grad_fn=<AddBackward0>)\n",
            "L1 =  tensor(533.4767, device='cuda:0', grad_fn=<AddBackward0>)\n",
            "Train set: Accuracy=99.3\n",
            "Test set: Average loss: 0.0203, Accuracy: 9934/10000 (99.3%)\n",
            "\n",
            "EPOCH: 17 LR =  [0.0001]\n",
            "Loss =  tensor(0.0635, device='cuda:0', grad_fn=<AddBackward0>)\n",
            "L1 =  tensor(533.2030, device='cuda:0', grad_fn=<AddBackward0>)\n",
            "Train set: Accuracy=99.3\n",
            "Test set: Average loss: 0.0203, Accuracy: 9932/10000 (99.3%)\n",
            "\n",
            "EPOCH: 18 LR =  [0.0001]\n",
            "Loss =  tensor(0.0593, device='cuda:0', grad_fn=<AddBackward0>)\n",
            "L1 =  tensor(532.9339, device='cuda:0', grad_fn=<AddBackward0>)\n",
            "Train set: Accuracy=99.3\n",
            "Test set: Average loss: 0.0209, Accuracy: 9924/10000 (99.2%)\n",
            "\n",
            "EPOCH: 19 LR =  [1.0000000000000002e-06]\n",
            "Loss =  tensor(0.0673, device='cuda:0', grad_fn=<AddBackward0>)\n",
            "L1 =  tensor(532.9045, device='cuda:0', grad_fn=<AddBackward0>)\n",
            "Train set: Accuracy=99.3\n",
            "Test set: Average loss: 0.0201, Accuracy: 9935/10000 (99.3%)\n",
            "\n"
          ],
          "name": "stdout"
        }
      ]
    },
    {
      "cell_type": "code",
      "metadata": {
        "colab": {
          "base_uri": "https://localhost:8080/",
          "height": 373
        },
        "id": "VSSZ5tKPedPw",
        "outputId": "8613e9c6-bafb-4bdd-a361-e724df2949f6"
      },
      "source": [
        "import numpy as np\n",
        "plt.rcParams['figure.figsize'] = [15, 6]\n",
        "\n",
        "def training_curves():\n",
        "  plt.subplot(1,2, 1)\n",
        "\n",
        "  plt.plot(np.array(training_accuracy))\n",
        "  plt.plot(np.array(testing_accuracy), 'r')\n",
        "  plt.legend([\"Train Accuracy\", \"Test Accuracy\"])\n",
        "  plt.title(\"Train vs Test Accuracy\")\n",
        "\n",
        "  plt.subplot(1,2,2)\n",
        "  plt.plot(training_losses)\n",
        "  plt.plot(testing_losses, 'r')\n",
        "  plt.legend([\"Train Loss\", \"Test Loss\"])\n",
        "  plt.title(\"Train vs Test Loss\")\n",
        "\n",
        "training_curves()"
      ],
      "execution_count": 41,
      "outputs": [
        {
          "output_type": "display_data",
          "data": {
            "image/png": "[encoded data removed]",
            "text/plain": [
              "<Figure size 1080x432 with 2 Axes>"
            ]
          },
          "metadata": {
            "tags": [],
            "needs_background": "light"
          }
        }
      ]
    },
    {
      "cell_type": "code",
      "metadata": {
        "id": "6o86bfyj3TiK"
      },
      "source": [
        ""
      ],
      "execution_count": 18,
      "outputs": []
    }
  ]
}