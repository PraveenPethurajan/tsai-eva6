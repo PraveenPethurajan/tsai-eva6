{
  "nbformat": 4,
  "nbformat_minor": 0,
  "metadata": {
    "accelerator": "GPU",
    "colab": {
      "name": "EVA6_Session5_CODE5.ipynb",
      "provenance": [],
      "collapsed_sections": [],
      "include_colab_link": true
    },
    "kernelspec": {
      "display_name": "Python 3",
      "name": "python3"
    }
  },
  "cells": [
    {
      "cell_type": "markdown",
      "metadata": {
        "id": "view-in-github",
        "colab_type": "text"
      },
      "source": [
        "<a href=\"https://colab.research.google.com/github/amanjain487/tsai-eva6/blob/main/Assignments/S5/EVA6_Session5_CODE5.ipynb\" target=\"_parent\"><img src=\"https://colab.research.google.com/assets/colab-badge.svg\" alt=\"Open In Colab\"/></a>"
      ]
    },
    {
      "cell_type": "markdown",
      "metadata": {
        "id": "8dcfzPkqqsbr"
      },
      "source": [
        "# Import Libraries"
      ]
    },
    {
      "cell_type": "code",
      "metadata": {
        "id": "0m2JWFliFfKT"
      },
      "source": [
        "from __future__ import print_function\n",
        "import torch\n",
        "import torch.nn as nn\n",
        "import torch.nn.functional as F\n",
        "import torch.optim as optim\n",
        "from torchvision import datasets, transforms\n",
        "\n",
        "from torchsummary import summary\n",
        "\n",
        "%matplotlib inline\n",
        "import matplotlib.pyplot as plt\n"
      ],
      "execution_count": null,
      "outputs": []
    },
    {
      "cell_type": "markdown",
      "metadata": {
        "id": "UnFjvVQzrH34"
      },
      "source": [
        "# Define Model Architecture\n",
        "Lets define the convolution blocks and the forward function."
      ]
    },
    {
      "cell_type": "code",
      "metadata": {
        "id": "3UCjonfCX-9B"
      },
      "source": [
        "class Net(nn.Module):\n",
        "    def __init__(self):\n",
        "        super(Net, self).__init__()\n",
        "        # RF = 1\n",
        "        self.conv1 = nn.Sequential(\n",
        "            nn.Conv2d(1, 32, 3, padding=1, bias=False),\n",
        "            nn.BatchNorm2d(32),\n",
        "            nn.Dropout(0.01),\n",
        "            nn.ReLU()\n",
        "        ) \n",
        "        # input_size = 28x28x1\n",
        "        # output_size = 28x28x32\n",
        "        # RF = 3\n",
        "\n",
        "\n",
        "        self.conv2 = nn.Sequential(\n",
        "            nn.Conv2d(32, 10, 1, padding=0, bias=False),\n",
        "            nn.Conv2d(10, 10, 3, padding=1, bias=False),\n",
        "            nn.BatchNorm2d(10),\n",
        "            nn.Dropout(0.01),\n",
        "            nn.ReLU()\n",
        "        ) \n",
        "        # input_size = 28x28x32\n",
        "        # output_size = 28x28x10\n",
        "        # RF = 5\n",
        "\n",
        "        self.pool1 = nn.MaxPool2d(2, 2) \n",
        "        # input_size = 28x28x10\n",
        "        # output_size = 14x14x10\n",
        "        # RF = 10\n",
        "\n",
        "\n",
        "        self.conv3 = nn.Sequential(\n",
        "            nn.Conv2d(10, 10, 3, padding=0, bias=False),\n",
        "            nn.BatchNorm2d(10),\n",
        "            nn.Dropout(0.01),\n",
        "            nn.ReLU()\n",
        "        ) \n",
        "        # input_size = 14x14x10\n",
        "        # output_size = 12x12x10\n",
        "        # RF = 12\n",
        "\n",
        "        self.conv4 = nn.Sequential(\n",
        "            nn.Conv2d(10, 10, 3, padding=0, bias=False),\n",
        "            nn.BatchNorm2d(10),\n",
        "            nn.ReLU()\n",
        "        ) \n",
        "        # input_size = 12x12x10\n",
        "        # output_size = 10x10x10\n",
        "        # RF = 14\n",
        "\n",
        "        self.conv5 = nn.Sequential(\n",
        "            nn.Conv2d(10, 10, 3, padding=0, bias=False),\n",
        "            nn.BatchNorm2d(10),\n",
        "            nn.Dropout(0.01),\n",
        "            nn.ReLU()\n",
        "        ) \n",
        "        # input_size = 10x10x10\n",
        "        # output_size = 8x8x10\n",
        "        # RF = 16\n",
        "\n",
        "        self.conv6 = nn.Sequential(\n",
        "            nn.Conv2d(10, 16, 3, padding=0, bias=False),\n",
        "            nn.BatchNorm2d(16),\n",
        "            nn.Dropout(0.01),\n",
        "            nn.ReLU()\n",
        "        ) \n",
        "        # input_size = 8x8x10\n",
        "        # output_size = 6x6x16\n",
        "        # RF = 18\n",
        "\n",
        "        self.conv7 = nn.Sequential(\n",
        "            nn.Conv2d(16, 10, 3, padding=0, bias=False),\n",
        "            nn.BatchNorm2d(10),\n",
        "            nn.Dropout(0.01),\n",
        "            nn.ReLU()\n",
        "        ) \n",
        "        # input_size = 6x6x16\n",
        "        # output_size = 4x4x10\n",
        "        # RF = 20\n",
        "\n",
        "        self.gap1 = nn.AvgPool2d(4) \n",
        "        # input_size = 4x4x10\n",
        "        # output_size = 1x1x10\n",
        "        # RF = 20\n",
        "\n",
        "        self.fc1 = nn.Sequential(\n",
        "            nn.Linear(10, 10, bias=False)\n",
        "        ) \n",
        "        # input_size = 1x1x10\n",
        "        # output_size = 1x1x10\n",
        "        # RF = 20\n",
        "\n",
        "    def forward(self, x):\n",
        "        x = self.conv1(x)\n",
        "        x = self.conv2(x)\n",
        "        x = self.pool1(x)\n",
        "        x = self.conv3(x)\n",
        "        x = self.conv4(x)\n",
        "        x = self.conv5(x)\n",
        "        x = self.conv6(x)\n",
        "        x = self.conv7(x)\n",
        "        x = self.gap1(x)\n",
        "        x = x.reshape(-1,10)\n",
        "        x = self.fc1(x)\n",
        "        x = x.view(-1, 10)\n",
        "        return F.log_softmax(x, dim=-1)"
      ],
      "execution_count": null,
      "outputs": []
    },
    {
      "cell_type": "markdown",
      "metadata": {
        "id": "WSYRwdRnuWEm"
      },
      "source": [
        "# Model Summary and Paramters\n",
        "Print the model parameters and output shape at each layer by giving dummy input to torchsummary"
      ]
    },
    {
      "cell_type": "code",
      "metadata": {
        "colab": {
          "base_uri": "https://localhost:8080/"
        },
        "id": "gOZ354VMazsG",
        "outputId": "96397e5a-f4fd-41fa-aad4-9917aeb2b6a3"
      },
      "source": [
        "!pip install torchsummary\n",
        "use_cuda = torch.cuda.is_available()\n",
        "device = torch.device(\"cuda\" if use_cuda else \"cpu\")\n",
        "print(device)\n",
        "model = Net().to(device)\n",
        "summary(model, input_size=(1, 28, 28))"
      ],
      "execution_count": null,
      "outputs": [
        {
          "output_type": "stream",
          "text": [
            "Requirement already satisfied: torchsummary in /usr/local/lib/python3.7/dist-packages (1.5.1)\n",
            "cuda\n",
            "----------------------------------------------------------------\n",
            "        Layer (type)               Output Shape         Param #\n",
            "================================================================\n",
            "            Conv2d-1           [-1, 32, 28, 28]             288\n",
            "       BatchNorm2d-2           [-1, 32, 28, 28]              64\n",
            "           Dropout-3           [-1, 32, 28, 28]               0\n",
            "              ReLU-4           [-1, 32, 28, 28]               0\n",
            "            Conv2d-5           [-1, 10, 28, 28]             320\n",
            "            Conv2d-6           [-1, 10, 28, 28]             900\n",
            "       BatchNorm2d-7           [-1, 10, 28, 28]              20\n",
            "           Dropout-8           [-1, 10, 28, 28]               0\n",
            "              ReLU-9           [-1, 10, 28, 28]               0\n",
            "        MaxPool2d-10           [-1, 10, 14, 14]               0\n",
            "           Conv2d-11           [-1, 10, 12, 12]             900\n",
            "      BatchNorm2d-12           [-1, 10, 12, 12]              20\n",
            "          Dropout-13           [-1, 10, 12, 12]               0\n",
            "             ReLU-14           [-1, 10, 12, 12]               0\n",
            "           Conv2d-15           [-1, 10, 10, 10]             900\n",
            "      BatchNorm2d-16           [-1, 10, 10, 10]              20\n",
            "             ReLU-17           [-1, 10, 10, 10]               0\n",
            "           Conv2d-18             [-1, 10, 8, 8]             900\n",
            "      BatchNorm2d-19             [-1, 10, 8, 8]              20\n",
            "          Dropout-20             [-1, 10, 8, 8]               0\n",
            "             ReLU-21             [-1, 10, 8, 8]               0\n",
            "           Conv2d-22             [-1, 16, 6, 6]           1,440\n",
            "      BatchNorm2d-23             [-1, 16, 6, 6]              32\n",
            "          Dropout-24             [-1, 16, 6, 6]               0\n",
            "             ReLU-25             [-1, 16, 6, 6]               0\n",
            "           Conv2d-26             [-1, 10, 4, 4]           1,440\n",
            "      BatchNorm2d-27             [-1, 10, 4, 4]              20\n",
            "          Dropout-28             [-1, 10, 4, 4]               0\n",
            "             ReLU-29             [-1, 10, 4, 4]               0\n",
            "        AvgPool2d-30             [-1, 10, 1, 1]               0\n",
            "           Linear-31                   [-1, 10]             100\n",
            "================================================================\n",
            "Total params: 7,384\n",
            "Trainable params: 7,384\n",
            "Non-trainable params: 0\n",
            "----------------------------------------------------------------\n",
            "Input size (MB): 0.00\n",
            "Forward/backward pass size (MB): 1.19\n",
            "Params size (MB): 0.03\n",
            "Estimated Total Size (MB): 1.22\n",
            "----------------------------------------------------------------\n"
          ],
          "name": "stdout"
        }
      ]
    },
    {
      "cell_type": "markdown",
      "metadata": {
        "id": "YCXWP0v83Jca"
      },
      "source": [
        "# Split Dataset into Train set and Test set"
      ]
    },
    {
      "cell_type": "code",
      "metadata": {
        "id": "gzVTKIkR2ikb"
      },
      "source": [
        "train_set = datasets.MNIST('../data', \n",
        "                   train=True, \n",
        "                   download=True,\n",
        "                   transform=transforms.Compose([\n",
        "                                       transforms.RandomRotation((-7.5, 7.5), fill=(1,)),\n",
        "                                       transforms.ToTensor(),\n",
        "                                       transforms.Normalize((0.1307,), (0.3081,)) \n",
        "                                       # The mean and std have to be sequences (e.g., tuples), therefore you should add a comma after the values. \n",
        "                                       ]))\n",
        "\n",
        "\n",
        "test_set = datasets.MNIST('../data', \n",
        "                   train=False, \n",
        "                   download=True,\n",
        "                   transform=transforms.Compose([\n",
        "                                       transforms.ToTensor(),\n",
        "                                       transforms.Normalize((0.1307,), (0.3081,))\n",
        "                                       ]))"
      ],
      "execution_count": null,
      "outputs": []
    },
    {
      "cell_type": "markdown",
      "metadata": {
        "id": "hJkfLC84zezT"
      },
      "source": [
        "# Create Data Loaders for Train and Test set"
      ]
    },
    {
      "cell_type": "code",
      "metadata": {
        "id": "gOfabbdWPS1Q"
      },
      "source": [
        "torch.manual_seed(1)\n",
        "if use_cuda:\n",
        "    torch.cuda.manual_seed(1)\n",
        "\n",
        "batch_size=128\n",
        "\n",
        "kwargs = {'num_workers': 2, 'pin_memory': True} if use_cuda else {}\n",
        "\n",
        "\n",
        "train_loader = torch.utils.data.DataLoader(train_set, batch_size=batch_size, shuffle=True, **kwargs)\n",
        "\n",
        "test_loader = torch.utils.data.DataLoader(test_set, batch_size=batch_size, shuffle=True, **kwargs)"
      ],
      "execution_count": null,
      "outputs": []
    },
    {
      "cell_type": "markdown",
      "metadata": {
        "id": "81rwY5oiz8w-"
      },
      "source": [
        "# Define Train and Test Functions"
      ]
    },
    {
      "cell_type": "code",
      "metadata": {
        "id": "6GaDH1PwPUxd"
      },
      "source": [
        "def train(model, device, train_loader, optimizer, epoch):\n",
        "    model.train()\n",
        "    correct = 0\n",
        "    processed = 0\n",
        "    for data, target in train_loader:\n",
        "        data, target = data.to(device), target.to(device)\n",
        "        optimizer.zero_grad()\n",
        "        output = model(data)\n",
        "        loss = F.nll_loss(output, target)\n",
        "        training_losses.append(loss)\n",
        "        loss.backward()\n",
        "        optimizer.step()\n",
        "        predictions = output.argmax(dim=1, keepdim=True)\n",
        "        correct += predictions.eq(target.view_as(predictions)).sum().item()\n",
        "        processed += len(data)\n",
        "        training_accuracy.append(100*correct/processed)\n",
        "        #pbar.set_description(desc= f'Train set: Accuracy={100*correct/processed:0.1f}')\n",
        "        training_accuracy.append(100*correct/processed)\n",
        "    print('Train set: Accuracy={:0.1f}'.format(100*correct/processed))\n",
        "\n",
        "\n",
        "\n",
        "def test(model, device, test_loader):\n",
        "    model.eval()\n",
        "    test_loss = 0\n",
        "    correct = 0\n",
        "    with torch.no_grad():\n",
        "        for data, target in test_loader:\n",
        "            data, target = data.to(device), target.to(device)\n",
        "            output = model(data)\n",
        "            test_loss += F.nll_loss(output, target, reduction='sum').item()\n",
        "            predictions = output.argmax(dim=1, keepdim=True)\n",
        "            correct += predictions.eq(target.view_as(predictions)).sum().item()\n",
        "\n",
        "    test_loss /= len(test_loader.dataset)\n",
        "    testing_losses.append(test_loss)\n",
        "\n",
        "    print('Test set: Average loss: {:.4f}, Accuracy: {}/{} ({:.1f}%)\\n'.format(\n",
        "        test_loss, correct, len(test_loader.dataset),\n",
        "        100. * correct / len(test_loader.dataset)))\n",
        "    testing_accuracy.append(100. * correct / len(test_loader.dataset))"
      ],
      "execution_count": null,
      "outputs": []
    },
    {
      "cell_type": "markdown",
      "metadata": {
        "id": "5dusPis40Kgz"
      },
      "source": [
        "# Train and Test the Model\n",
        "Use LR Scheduling"
      ]
    },
    {
      "cell_type": "code",
      "metadata": {
        "colab": {
          "base_uri": "https://localhost:8080/"
        },
        "id": "nDrBzboiTIT2",
        "outputId": "c5f90e7d-4172-4f42-b479-07ffb6b6ce34"
      },
      "source": [
        "from torch.optim.lr_scheduler import StepLR,OneCycleLR\n",
        "\n",
        "# will be used while plotting graphs\n",
        "\n",
        "training_losses = []\n",
        "testing_losses = []\n",
        "training_accuracy = []\n",
        "testing_accuracy = []\n",
        "\n",
        "\n",
        "model = Net().to(device)\n",
        "optimizer = optim.SGD(model.parameters(), lr=0.01, momentum=0.9)\n",
        "scheduler = StepLR(optimizer, step_size=6, gamma=0.1)\n",
        "\n",
        "for epoch in range(1, 20):\n",
        "    print(\"EPOCH:\", epoch, \"LR = \", scheduler.get_lr())\n",
        "    train(model, device, train_loader, optimizer, epoch)\n",
        "    test(model, device, test_loader)\n",
        "    scheduler.step()\n"
      ],
      "execution_count": null,
      "outputs": [
        {
          "output_type": "stream",
          "text": [
            "EPOCH: 1 LR =  [0.01]\n"
          ],
          "name": "stdout"
        },
        {
          "output_type": "stream",
          "text": [
            "/usr/local/lib/python3.7/dist-packages/torch/optim/lr_scheduler.py:370: UserWarning: To get the last learning rate computed by the scheduler, please use `get_last_lr()`.\n",
            "  \"please use `get_last_lr()`.\", UserWarning)\n"
          ],
          "name": "stderr"
        },
        {
          "output_type": "stream",
          "text": [
            "Train set: Accuracy=77.0\n",
            "Test set: Average loss: 0.1333, Accuracy: 9658/10000 (96.6%)\n",
            "\n",
            "EPOCH: 2 LR =  [0.01]\n",
            "Train set: Accuracy=97.6\n",
            "Test set: Average loss: 0.0579, Accuracy: 9835/10000 (98.3%)\n",
            "\n",
            "EPOCH: 3 LR =  [0.01]\n",
            "Train set: Accuracy=98.3\n",
            "Test set: Average loss: 0.0451, Accuracy: 9870/10000 (98.7%)\n",
            "\n",
            "EPOCH: 4 LR =  [0.01]\n",
            "Train set: Accuracy=98.5\n",
            "Test set: Average loss: 0.0375, Accuracy: 9887/10000 (98.9%)\n",
            "\n",
            "EPOCH: 5 LR =  [0.01]\n",
            "Train set: Accuracy=98.7\n",
            "Test set: Average loss: 0.0306, Accuracy: 9920/10000 (99.2%)\n",
            "\n",
            "EPOCH: 6 LR =  [0.01]\n",
            "Train set: Accuracy=98.7\n",
            "Test set: Average loss: 0.0339, Accuracy: 9901/10000 (99.0%)\n",
            "\n",
            "EPOCH: 7 LR =  [0.0001]\n",
            "Train set: Accuracy=99.1\n",
            "Test set: Average loss: 0.0200, Accuracy: 9946/10000 (99.5%)\n",
            "\n",
            "EPOCH: 8 LR =  [0.001]\n",
            "Train set: Accuracy=99.1\n",
            "Test set: Average loss: 0.0199, Accuracy: 9943/10000 (99.4%)\n",
            "\n",
            "EPOCH: 9 LR =  [0.001]\n",
            "Train set: Accuracy=99.2\n",
            "Test set: Average loss: 0.0198, Accuracy: 9945/10000 (99.5%)\n",
            "\n",
            "EPOCH: 10 LR =  [0.001]\n",
            "Train set: Accuracy=99.2\n",
            "Test set: Average loss: 0.0192, Accuracy: 9944/10000 (99.4%)\n",
            "\n",
            "EPOCH: 11 LR =  [0.001]\n",
            "Train set: Accuracy=99.2\n",
            "Test set: Average loss: 0.0194, Accuracy: 9942/10000 (99.4%)\n",
            "\n",
            "EPOCH: 12 LR =  [0.001]\n",
            "Train set: Accuracy=99.2\n",
            "Test set: Average loss: 0.0191, Accuracy: 9947/10000 (99.5%)\n",
            "\n",
            "EPOCH: 13 LR =  [1e-05]\n",
            "Train set: Accuracy=99.3\n",
            "Test set: Average loss: 0.0188, Accuracy: 9945/10000 (99.5%)\n",
            "\n",
            "EPOCH: 14 LR =  [0.0001]\n",
            "Train set: Accuracy=99.3\n",
            "Test set: Average loss: 0.0183, Accuracy: 9944/10000 (99.4%)\n",
            "\n",
            "EPOCH: 15 LR =  [0.0001]\n",
            "Train set: Accuracy=99.3\n",
            "Test set: Average loss: 0.0185, Accuracy: 9946/10000 (99.5%)\n",
            "\n",
            "EPOCH: 16 LR =  [0.0001]\n",
            "Train set: Accuracy=99.3\n",
            "Test set: Average loss: 0.0185, Accuracy: 9949/10000 (99.5%)\n",
            "\n",
            "EPOCH: 17 LR =  [0.0001]\n",
            "Train set: Accuracy=99.2\n",
            "Test set: Average loss: 0.0185, Accuracy: 9947/10000 (99.5%)\n",
            "\n",
            "EPOCH: 18 LR =  [0.0001]\n",
            "Train set: Accuracy=99.2\n",
            "Test set: Average loss: 0.0185, Accuracy: 9950/10000 (99.5%)\n",
            "\n",
            "EPOCH: 19 LR =  [1.0000000000000002e-06]\n",
            "Train set: Accuracy=99.3\n",
            "Test set: Average loss: 0.0186, Accuracy: 9948/10000 (99.5%)\n",
            "\n"
          ],
          "name": "stdout"
        }
      ]
    },
    {
      "cell_type": "code",
      "metadata": {
        "colab": {
          "base_uri": "https://localhost:8080/",
          "height": 598
        },
        "id": "VSSZ5tKPedPw",
        "outputId": "4510280c-a9b2-4c72-db4f-2dc3401e6a14"
      },
      "source": [
        "fig, axs = plt.subplots(2,2,figsize=(15,10))\n",
        "axs[0, 0].plot(training_losses)\n",
        "axs[0, 0].set_title(\"Training Loss\")\n",
        "axs[1, 0].plot(training_accuracy)\n",
        "axs[1, 0].set_title(\"Training Accuracy\")\n",
        "axs[0, 1].plot(testing_losses)\n",
        "axs[0, 1].set_title(\"Test Loss\")\n",
        "axs[1, 1].plot(testing_accuracy)\n",
        "axs[1, 1].set_title(\"Test Accuracy\")"
      ],
      "execution_count": null,
      "outputs": [
        {
          "output_type": "execute_result",
          "data": {
            "text/plain": [
              "Text(0.5, 1.0, 'Test Accuracy')"
            ]
          },
          "metadata": {
            "tags": []
          },
          "execution_count": 8
        },
        {
          "output_type": "display_data",
          "data": {
            "image/png": "[encoded data removed]",
            "text/plain": [
              "<Figure size 1080x720 with 4 Axes>"
            ]
          },
          "metadata": {
            "tags": [],
            "needs_background": "light"
          }
        }
      ]
    }
  ]
}